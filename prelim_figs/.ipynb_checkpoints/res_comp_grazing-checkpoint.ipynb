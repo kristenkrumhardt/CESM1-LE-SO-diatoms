{
 "cells": [
  {
   "cell_type": "markdown",
   "metadata": {},
   "source": [
    "# Resource competition: light and Fe in the Southern Ocean"
   ]
  },
  {
   "cell_type": "code",
   "execution_count": 1,
   "metadata": {},
   "outputs": [],
   "source": [
    "%matplotlib inline\n",
    "import warnings\n",
    "warnings.filterwarnings('ignore')\n",
    "import os\n",
    "from glob import glob\n",
    "\n",
    "import xarray as xr\n",
    "import numpy as np\n",
    "\n",
    "import esmlab\n",
    "import matplotlib.pyplot as plt\n",
    "import cartopy\n",
    "import cartopy.crs as ccrs\n",
    "from scipy import stats\n",
    "import pop_tools \n",
    "\n",
    "from statistics import mean\n",
    "from matplotlib import style\n",
    "from scipy import stats\n",
    "import matplotlib.path as mpath\n",
    "import math\n",
    "import cmocean"
   ]
  },
  {
   "cell_type": "markdown",
   "metadata": {},
   "source": [
    "## first, make seasonal-biomass weighted means of temp, Fe, par"
   ]
  },
  {
   "cell_type": "markdown",
   "metadata": {},
   "source": [
    "#### ACC 1920s"
   ]
  },
  {
   "cell_type": "code",
   "execution_count": 28,
   "metadata": {},
   "outputs": [
    {
     "ename": "FileNotFoundError",
     "evalue": "[Errno 2] No such file or directory: b'/glade/scratch/kristenk/CESM-LE-output/seasonal_upper_50m_means_ACC-1920s.nc'",
     "output_type": "error",
     "traceback": [
      "\u001b[0;31m---------------------------------------------------------------------------\u001b[0m",
      "\u001b[0;31mKeyError\u001b[0m                                  Traceback (most recent call last)",
      "\u001b[0;32m/glade/work/kristenk/miniconda/envs/analysis4/lib/python3.7/site-packages/xarray/backends/file_manager.py\u001b[0m in \u001b[0;36m_acquire_with_cache_info\u001b[0;34m(self, needs_lock)\u001b[0m\n\u001b[1;32m    198\u001b[0m             \u001b[0;32mtry\u001b[0m\u001b[0;34m:\u001b[0m\u001b[0;34m\u001b[0m\u001b[0;34m\u001b[0m\u001b[0m\n\u001b[0;32m--> 199\u001b[0;31m                 \u001b[0mfile\u001b[0m \u001b[0;34m=\u001b[0m \u001b[0mself\u001b[0m\u001b[0;34m.\u001b[0m\u001b[0m_cache\u001b[0m\u001b[0;34m[\u001b[0m\u001b[0mself\u001b[0m\u001b[0;34m.\u001b[0m\u001b[0m_key\u001b[0m\u001b[0;34m]\u001b[0m\u001b[0;34m\u001b[0m\u001b[0;34m\u001b[0m\u001b[0m\n\u001b[0m\u001b[1;32m    200\u001b[0m             \u001b[0;32mexcept\u001b[0m \u001b[0mKeyError\u001b[0m\u001b[0;34m:\u001b[0m\u001b[0;34m\u001b[0m\u001b[0;34m\u001b[0m\u001b[0m\n",
      "\u001b[0;32m/glade/work/kristenk/miniconda/envs/analysis4/lib/python3.7/site-packages/xarray/backends/lru_cache.py\u001b[0m in \u001b[0;36m__getitem__\u001b[0;34m(self, key)\u001b[0m\n\u001b[1;32m     52\u001b[0m         \u001b[0;32mwith\u001b[0m \u001b[0mself\u001b[0m\u001b[0;34m.\u001b[0m\u001b[0m_lock\u001b[0m\u001b[0;34m:\u001b[0m\u001b[0;34m\u001b[0m\u001b[0;34m\u001b[0m\u001b[0m\n\u001b[0;32m---> 53\u001b[0;31m             \u001b[0mvalue\u001b[0m \u001b[0;34m=\u001b[0m \u001b[0mself\u001b[0m\u001b[0;34m.\u001b[0m\u001b[0m_cache\u001b[0m\u001b[0;34m[\u001b[0m\u001b[0mkey\u001b[0m\u001b[0;34m]\u001b[0m\u001b[0;34m\u001b[0m\u001b[0;34m\u001b[0m\u001b[0m\n\u001b[0m\u001b[1;32m     54\u001b[0m             \u001b[0mself\u001b[0m\u001b[0;34m.\u001b[0m\u001b[0m_cache\u001b[0m\u001b[0;34m.\u001b[0m\u001b[0mmove_to_end\u001b[0m\u001b[0;34m(\u001b[0m\u001b[0mkey\u001b[0m\u001b[0;34m)\u001b[0m\u001b[0;34m\u001b[0m\u001b[0;34m\u001b[0m\u001b[0m\n",
      "\u001b[0;31mKeyError\u001b[0m: [<class 'netCDF4._netCDF4.Dataset'>, ('/glade/scratch/kristenk/CESM-LE-output/seasonal_upper_50m_means_ACC-1920s.nc',), 'r', (('clobber', True), ('diskless', False), ('format', 'NETCDF4'), ('persist', False))]",
      "\nDuring handling of the above exception, another exception occurred:\n",
      "\u001b[0;31mFileNotFoundError\u001b[0m                         Traceback (most recent call last)",
      "\u001b[0;32m<ipython-input-28-d65ad70d5a38>\u001b[0m in \u001b[0;36m<module>\u001b[0;34m\u001b[0m\n\u001b[1;32m      1\u001b[0m \u001b[0mfile\u001b[0m \u001b[0;34m=\u001b[0m \u001b[0;34m'/glade/scratch/kristenk/CESM-LE-output/seasonal_upper_50m_means_ACC-1920s.nc'\u001b[0m\u001b[0;34m\u001b[0m\u001b[0;34m\u001b[0m\u001b[0m\n\u001b[0;32m----> 2\u001b[0;31m \u001b[0mds_acc_1920s\u001b[0m\u001b[0;34m=\u001b[0m\u001b[0mxr\u001b[0m\u001b[0;34m.\u001b[0m\u001b[0mopen_dataset\u001b[0m\u001b[0;34m(\u001b[0m\u001b[0mfile\u001b[0m\u001b[0;34m)\u001b[0m\u001b[0;34m\u001b[0m\u001b[0;34m\u001b[0m\u001b[0m\n\u001b[0m",
      "\u001b[0;32m/glade/work/kristenk/miniconda/envs/analysis4/lib/python3.7/site-packages/xarray/backends/api.py\u001b[0m in \u001b[0;36mopen_dataset\u001b[0;34m(filename_or_obj, group, decode_cf, mask_and_scale, decode_times, autoclose, concat_characters, decode_coords, engine, chunks, lock, cache, drop_variables, backend_kwargs, use_cftime, decode_timedelta)\u001b[0m\n\u001b[1;32m    570\u001b[0m \u001b[0;34m\u001b[0m\u001b[0m\n\u001b[1;32m    571\u001b[0m         \u001b[0mopener\u001b[0m \u001b[0;34m=\u001b[0m \u001b[0m_get_backend_cls\u001b[0m\u001b[0;34m(\u001b[0m\u001b[0mengine\u001b[0m\u001b[0;34m)\u001b[0m\u001b[0;34m\u001b[0m\u001b[0;34m\u001b[0m\u001b[0m\n\u001b[0;32m--> 572\u001b[0;31m         \u001b[0mstore\u001b[0m \u001b[0;34m=\u001b[0m \u001b[0mopener\u001b[0m\u001b[0;34m(\u001b[0m\u001b[0mfilename_or_obj\u001b[0m\u001b[0;34m,\u001b[0m \u001b[0;34m**\u001b[0m\u001b[0mextra_kwargs\u001b[0m\u001b[0;34m,\u001b[0m \u001b[0;34m**\u001b[0m\u001b[0mbackend_kwargs\u001b[0m\u001b[0;34m)\u001b[0m\u001b[0;34m\u001b[0m\u001b[0;34m\u001b[0m\u001b[0m\n\u001b[0m\u001b[1;32m    573\u001b[0m \u001b[0;34m\u001b[0m\u001b[0m\n\u001b[1;32m    574\u001b[0m     \u001b[0;32mwith\u001b[0m \u001b[0mclose_on_error\u001b[0m\u001b[0;34m(\u001b[0m\u001b[0mstore\u001b[0m\u001b[0;34m)\u001b[0m\u001b[0;34m:\u001b[0m\u001b[0;34m\u001b[0m\u001b[0;34m\u001b[0m\u001b[0m\n",
      "\u001b[0;32m/glade/work/kristenk/miniconda/envs/analysis4/lib/python3.7/site-packages/xarray/backends/netCDF4_.py\u001b[0m in \u001b[0;36mopen\u001b[0;34m(cls, filename, mode, format, group, clobber, diskless, persist, lock, lock_maker, autoclose)\u001b[0m\n\u001b[1;32m    362\u001b[0m             \u001b[0mnetCDF4\u001b[0m\u001b[0;34m.\u001b[0m\u001b[0mDataset\u001b[0m\u001b[0;34m,\u001b[0m \u001b[0mfilename\u001b[0m\u001b[0;34m,\u001b[0m \u001b[0mmode\u001b[0m\u001b[0;34m=\u001b[0m\u001b[0mmode\u001b[0m\u001b[0;34m,\u001b[0m \u001b[0mkwargs\u001b[0m\u001b[0;34m=\u001b[0m\u001b[0mkwargs\u001b[0m\u001b[0;34m\u001b[0m\u001b[0;34m\u001b[0m\u001b[0m\n\u001b[1;32m    363\u001b[0m         )\n\u001b[0;32m--> 364\u001b[0;31m         \u001b[0;32mreturn\u001b[0m \u001b[0mcls\u001b[0m\u001b[0;34m(\u001b[0m\u001b[0mmanager\u001b[0m\u001b[0;34m,\u001b[0m \u001b[0mgroup\u001b[0m\u001b[0;34m=\u001b[0m\u001b[0mgroup\u001b[0m\u001b[0;34m,\u001b[0m \u001b[0mmode\u001b[0m\u001b[0;34m=\u001b[0m\u001b[0mmode\u001b[0m\u001b[0;34m,\u001b[0m \u001b[0mlock\u001b[0m\u001b[0;34m=\u001b[0m\u001b[0mlock\u001b[0m\u001b[0;34m,\u001b[0m \u001b[0mautoclose\u001b[0m\u001b[0;34m=\u001b[0m\u001b[0mautoclose\u001b[0m\u001b[0;34m)\u001b[0m\u001b[0;34m\u001b[0m\u001b[0;34m\u001b[0m\u001b[0m\n\u001b[0m\u001b[1;32m    365\u001b[0m \u001b[0;34m\u001b[0m\u001b[0m\n\u001b[1;32m    366\u001b[0m     \u001b[0;32mdef\u001b[0m \u001b[0m_acquire\u001b[0m\u001b[0;34m(\u001b[0m\u001b[0mself\u001b[0m\u001b[0;34m,\u001b[0m \u001b[0mneeds_lock\u001b[0m\u001b[0;34m=\u001b[0m\u001b[0;32mTrue\u001b[0m\u001b[0;34m)\u001b[0m\u001b[0;34m:\u001b[0m\u001b[0;34m\u001b[0m\u001b[0;34m\u001b[0m\u001b[0m\n",
      "\u001b[0;32m/glade/work/kristenk/miniconda/envs/analysis4/lib/python3.7/site-packages/xarray/backends/netCDF4_.py\u001b[0m in \u001b[0;36m__init__\u001b[0;34m(self, manager, group, mode, lock, autoclose)\u001b[0m\n\u001b[1;32m    312\u001b[0m         \u001b[0mself\u001b[0m\u001b[0;34m.\u001b[0m\u001b[0m_group\u001b[0m \u001b[0;34m=\u001b[0m \u001b[0mgroup\u001b[0m\u001b[0;34m\u001b[0m\u001b[0;34m\u001b[0m\u001b[0m\n\u001b[1;32m    313\u001b[0m         \u001b[0mself\u001b[0m\u001b[0;34m.\u001b[0m\u001b[0m_mode\u001b[0m \u001b[0;34m=\u001b[0m \u001b[0mmode\u001b[0m\u001b[0;34m\u001b[0m\u001b[0;34m\u001b[0m\u001b[0m\n\u001b[0;32m--> 314\u001b[0;31m         \u001b[0mself\u001b[0m\u001b[0;34m.\u001b[0m\u001b[0mformat\u001b[0m \u001b[0;34m=\u001b[0m \u001b[0mself\u001b[0m\u001b[0;34m.\u001b[0m\u001b[0mds\u001b[0m\u001b[0;34m.\u001b[0m\u001b[0mdata_model\u001b[0m\u001b[0;34m\u001b[0m\u001b[0;34m\u001b[0m\u001b[0m\n\u001b[0m\u001b[1;32m    315\u001b[0m         \u001b[0mself\u001b[0m\u001b[0;34m.\u001b[0m\u001b[0m_filename\u001b[0m \u001b[0;34m=\u001b[0m \u001b[0mself\u001b[0m\u001b[0;34m.\u001b[0m\u001b[0mds\u001b[0m\u001b[0;34m.\u001b[0m\u001b[0mfilepath\u001b[0m\u001b[0;34m(\u001b[0m\u001b[0;34m)\u001b[0m\u001b[0;34m\u001b[0m\u001b[0;34m\u001b[0m\u001b[0m\n\u001b[1;32m    316\u001b[0m         \u001b[0mself\u001b[0m\u001b[0;34m.\u001b[0m\u001b[0mis_remote\u001b[0m \u001b[0;34m=\u001b[0m \u001b[0mis_remote_uri\u001b[0m\u001b[0;34m(\u001b[0m\u001b[0mself\u001b[0m\u001b[0;34m.\u001b[0m\u001b[0m_filename\u001b[0m\u001b[0;34m)\u001b[0m\u001b[0;34m\u001b[0m\u001b[0;34m\u001b[0m\u001b[0m\n",
      "\u001b[0;32m/glade/work/kristenk/miniconda/envs/analysis4/lib/python3.7/site-packages/xarray/backends/netCDF4_.py\u001b[0m in \u001b[0;36mds\u001b[0;34m(self)\u001b[0m\n\u001b[1;32m    371\u001b[0m     \u001b[0;34m@\u001b[0m\u001b[0mproperty\u001b[0m\u001b[0;34m\u001b[0m\u001b[0;34m\u001b[0m\u001b[0m\n\u001b[1;32m    372\u001b[0m     \u001b[0;32mdef\u001b[0m \u001b[0mds\u001b[0m\u001b[0;34m(\u001b[0m\u001b[0mself\u001b[0m\u001b[0;34m)\u001b[0m\u001b[0;34m:\u001b[0m\u001b[0;34m\u001b[0m\u001b[0;34m\u001b[0m\u001b[0m\n\u001b[0;32m--> 373\u001b[0;31m         \u001b[0;32mreturn\u001b[0m \u001b[0mself\u001b[0m\u001b[0;34m.\u001b[0m\u001b[0m_acquire\u001b[0m\u001b[0;34m(\u001b[0m\u001b[0;34m)\u001b[0m\u001b[0;34m\u001b[0m\u001b[0;34m\u001b[0m\u001b[0m\n\u001b[0m\u001b[1;32m    374\u001b[0m \u001b[0;34m\u001b[0m\u001b[0m\n\u001b[1;32m    375\u001b[0m     \u001b[0;32mdef\u001b[0m \u001b[0mopen_store_variable\u001b[0m\u001b[0;34m(\u001b[0m\u001b[0mself\u001b[0m\u001b[0;34m,\u001b[0m \u001b[0mname\u001b[0m\u001b[0;34m,\u001b[0m \u001b[0mvar\u001b[0m\u001b[0;34m)\u001b[0m\u001b[0;34m:\u001b[0m\u001b[0;34m\u001b[0m\u001b[0;34m\u001b[0m\u001b[0m\n",
      "\u001b[0;32m/glade/work/kristenk/miniconda/envs/analysis4/lib/python3.7/site-packages/xarray/backends/netCDF4_.py\u001b[0m in \u001b[0;36m_acquire\u001b[0;34m(self, needs_lock)\u001b[0m\n\u001b[1;32m    365\u001b[0m \u001b[0;34m\u001b[0m\u001b[0m\n\u001b[1;32m    366\u001b[0m     \u001b[0;32mdef\u001b[0m \u001b[0m_acquire\u001b[0m\u001b[0;34m(\u001b[0m\u001b[0mself\u001b[0m\u001b[0;34m,\u001b[0m \u001b[0mneeds_lock\u001b[0m\u001b[0;34m=\u001b[0m\u001b[0;32mTrue\u001b[0m\u001b[0;34m)\u001b[0m\u001b[0;34m:\u001b[0m\u001b[0;34m\u001b[0m\u001b[0;34m\u001b[0m\u001b[0m\n\u001b[0;32m--> 367\u001b[0;31m         \u001b[0;32mwith\u001b[0m \u001b[0mself\u001b[0m\u001b[0;34m.\u001b[0m\u001b[0m_manager\u001b[0m\u001b[0;34m.\u001b[0m\u001b[0macquire_context\u001b[0m\u001b[0;34m(\u001b[0m\u001b[0mneeds_lock\u001b[0m\u001b[0;34m)\u001b[0m \u001b[0;32mas\u001b[0m \u001b[0mroot\u001b[0m\u001b[0;34m:\u001b[0m\u001b[0;34m\u001b[0m\u001b[0;34m\u001b[0m\u001b[0m\n\u001b[0m\u001b[1;32m    368\u001b[0m             \u001b[0mds\u001b[0m \u001b[0;34m=\u001b[0m \u001b[0m_nc4_require_group\u001b[0m\u001b[0;34m(\u001b[0m\u001b[0mroot\u001b[0m\u001b[0;34m,\u001b[0m \u001b[0mself\u001b[0m\u001b[0;34m.\u001b[0m\u001b[0m_group\u001b[0m\u001b[0;34m,\u001b[0m \u001b[0mself\u001b[0m\u001b[0;34m.\u001b[0m\u001b[0m_mode\u001b[0m\u001b[0;34m)\u001b[0m\u001b[0;34m\u001b[0m\u001b[0;34m\u001b[0m\u001b[0m\n\u001b[1;32m    369\u001b[0m         \u001b[0;32mreturn\u001b[0m \u001b[0mds\u001b[0m\u001b[0;34m\u001b[0m\u001b[0;34m\u001b[0m\u001b[0m\n",
      "\u001b[0;32m/glade/work/kristenk/miniconda/envs/analysis4/lib/python3.7/contextlib.py\u001b[0m in \u001b[0;36m__enter__\u001b[0;34m(self)\u001b[0m\n\u001b[1;32m    110\u001b[0m         \u001b[0;32mdel\u001b[0m \u001b[0mself\u001b[0m\u001b[0;34m.\u001b[0m\u001b[0margs\u001b[0m\u001b[0;34m,\u001b[0m \u001b[0mself\u001b[0m\u001b[0;34m.\u001b[0m\u001b[0mkwds\u001b[0m\u001b[0;34m,\u001b[0m \u001b[0mself\u001b[0m\u001b[0;34m.\u001b[0m\u001b[0mfunc\u001b[0m\u001b[0;34m\u001b[0m\u001b[0;34m\u001b[0m\u001b[0m\n\u001b[1;32m    111\u001b[0m         \u001b[0;32mtry\u001b[0m\u001b[0;34m:\u001b[0m\u001b[0;34m\u001b[0m\u001b[0;34m\u001b[0m\u001b[0m\n\u001b[0;32m--> 112\u001b[0;31m             \u001b[0;32mreturn\u001b[0m \u001b[0mnext\u001b[0m\u001b[0;34m(\u001b[0m\u001b[0mself\u001b[0m\u001b[0;34m.\u001b[0m\u001b[0mgen\u001b[0m\u001b[0;34m)\u001b[0m\u001b[0;34m\u001b[0m\u001b[0;34m\u001b[0m\u001b[0m\n\u001b[0m\u001b[1;32m    113\u001b[0m         \u001b[0;32mexcept\u001b[0m \u001b[0mStopIteration\u001b[0m\u001b[0;34m:\u001b[0m\u001b[0;34m\u001b[0m\u001b[0;34m\u001b[0m\u001b[0m\n\u001b[1;32m    114\u001b[0m             \u001b[0;32mraise\u001b[0m \u001b[0mRuntimeError\u001b[0m\u001b[0;34m(\u001b[0m\u001b[0;34m\"generator didn't yield\"\u001b[0m\u001b[0;34m)\u001b[0m \u001b[0;32mfrom\u001b[0m \u001b[0;32mNone\u001b[0m\u001b[0;34m\u001b[0m\u001b[0;34m\u001b[0m\u001b[0m\n",
      "\u001b[0;32m/glade/work/kristenk/miniconda/envs/analysis4/lib/python3.7/site-packages/xarray/backends/file_manager.py\u001b[0m in \u001b[0;36macquire_context\u001b[0;34m(self, needs_lock)\u001b[0m\n\u001b[1;32m    185\u001b[0m     \u001b[0;32mdef\u001b[0m \u001b[0macquire_context\u001b[0m\u001b[0;34m(\u001b[0m\u001b[0mself\u001b[0m\u001b[0;34m,\u001b[0m \u001b[0mneeds_lock\u001b[0m\u001b[0;34m=\u001b[0m\u001b[0;32mTrue\u001b[0m\u001b[0;34m)\u001b[0m\u001b[0;34m:\u001b[0m\u001b[0;34m\u001b[0m\u001b[0;34m\u001b[0m\u001b[0m\n\u001b[1;32m    186\u001b[0m         \u001b[0;34m\"\"\"Context manager for acquiring a file.\"\"\"\u001b[0m\u001b[0;34m\u001b[0m\u001b[0;34m\u001b[0m\u001b[0m\n\u001b[0;32m--> 187\u001b[0;31m         \u001b[0mfile\u001b[0m\u001b[0;34m,\u001b[0m \u001b[0mcached\u001b[0m \u001b[0;34m=\u001b[0m \u001b[0mself\u001b[0m\u001b[0;34m.\u001b[0m\u001b[0m_acquire_with_cache_info\u001b[0m\u001b[0;34m(\u001b[0m\u001b[0mneeds_lock\u001b[0m\u001b[0;34m)\u001b[0m\u001b[0;34m\u001b[0m\u001b[0;34m\u001b[0m\u001b[0m\n\u001b[0m\u001b[1;32m    188\u001b[0m         \u001b[0;32mtry\u001b[0m\u001b[0;34m:\u001b[0m\u001b[0;34m\u001b[0m\u001b[0;34m\u001b[0m\u001b[0m\n\u001b[1;32m    189\u001b[0m             \u001b[0;32myield\u001b[0m \u001b[0mfile\u001b[0m\u001b[0;34m\u001b[0m\u001b[0;34m\u001b[0m\u001b[0m\n",
      "\u001b[0;32m/glade/work/kristenk/miniconda/envs/analysis4/lib/python3.7/site-packages/xarray/backends/file_manager.py\u001b[0m in \u001b[0;36m_acquire_with_cache_info\u001b[0;34m(self, needs_lock)\u001b[0m\n\u001b[1;32m    203\u001b[0m                     \u001b[0mkwargs\u001b[0m \u001b[0;34m=\u001b[0m \u001b[0mkwargs\u001b[0m\u001b[0;34m.\u001b[0m\u001b[0mcopy\u001b[0m\u001b[0;34m(\u001b[0m\u001b[0;34m)\u001b[0m\u001b[0;34m\u001b[0m\u001b[0;34m\u001b[0m\u001b[0m\n\u001b[1;32m    204\u001b[0m                     \u001b[0mkwargs\u001b[0m\u001b[0;34m[\u001b[0m\u001b[0;34m\"mode\"\u001b[0m\u001b[0;34m]\u001b[0m \u001b[0;34m=\u001b[0m \u001b[0mself\u001b[0m\u001b[0;34m.\u001b[0m\u001b[0m_mode\u001b[0m\u001b[0;34m\u001b[0m\u001b[0;34m\u001b[0m\u001b[0m\n\u001b[0;32m--> 205\u001b[0;31m                 \u001b[0mfile\u001b[0m \u001b[0;34m=\u001b[0m \u001b[0mself\u001b[0m\u001b[0;34m.\u001b[0m\u001b[0m_opener\u001b[0m\u001b[0;34m(\u001b[0m\u001b[0;34m*\u001b[0m\u001b[0mself\u001b[0m\u001b[0;34m.\u001b[0m\u001b[0m_args\u001b[0m\u001b[0;34m,\u001b[0m \u001b[0;34m**\u001b[0m\u001b[0mkwargs\u001b[0m\u001b[0;34m)\u001b[0m\u001b[0;34m\u001b[0m\u001b[0;34m\u001b[0m\u001b[0m\n\u001b[0m\u001b[1;32m    206\u001b[0m                 \u001b[0;32mif\u001b[0m \u001b[0mself\u001b[0m\u001b[0;34m.\u001b[0m\u001b[0m_mode\u001b[0m \u001b[0;34m==\u001b[0m \u001b[0;34m\"w\"\u001b[0m\u001b[0;34m:\u001b[0m\u001b[0;34m\u001b[0m\u001b[0;34m\u001b[0m\u001b[0m\n\u001b[1;32m    207\u001b[0m                     \u001b[0;31m# ensure file doesn't get overriden when opened again\u001b[0m\u001b[0;34m\u001b[0m\u001b[0;34m\u001b[0m\u001b[0;34m\u001b[0m\u001b[0m\n",
      "\u001b[0;32mnetCDF4/_netCDF4.pyx\u001b[0m in \u001b[0;36mnetCDF4._netCDF4.Dataset.__init__\u001b[0;34m()\u001b[0m\n",
      "\u001b[0;32mnetCDF4/_netCDF4.pyx\u001b[0m in \u001b[0;36mnetCDF4._netCDF4._ensure_nc_success\u001b[0;34m()\u001b[0m\n",
      "\u001b[0;31mFileNotFoundError\u001b[0m: [Errno 2] No such file or directory: b'/glade/scratch/kristenk/CESM-LE-output/seasonal_upper_50m_means_ACC-1920s.nc'"
     ]
    }
   ],
   "source": [
    "file = '/glade/scratch/kristenk/CESM-LE-output/seasonal_upper_50m_means_ACC-1920s.nc'\n",
    "ds_acc_1920s=xr.open_dataset(file)"
   ]
  },
  {
   "cell_type": "code",
   "execution_count": null,
   "metadata": {},
   "outputs": [],
   "source": []
  },
  {
   "cell_type": "code",
   "execution_count": null,
   "metadata": {},
   "outputs": [],
   "source": []
  },
  {
   "cell_type": "code",
   "execution_count": null,
   "metadata": {},
   "outputs": [],
   "source": []
  },
  {
   "cell_type": "code",
   "execution_count": null,
   "metadata": {},
   "outputs": [],
   "source": [
    "work = SIZ_values_ds_2090s.TEMP_50m_mean.isel(season=0) * SIZ_values_ds_2090s.phytoC_50m_zint.isel(season=0)\n",
    "work = work + SIZ_values_ds_2090s.TEMP_50m_mean.isel(season=1) * SIZ_values_ds_2090s.phytoC_50m_zint.isel(season=1)\n",
    "work = work + SIZ_values_ds_2090s.TEMP_50m_mean.isel(season=2) * SIZ_values_ds_2090s.phytoC_50m_zint.isel(season=2)\n",
    "work = work + SIZ_values_ds_2090s.TEMP_50m_mean.isel(season=3) * SIZ_values_ds_2090s.phytoC_50m_zint.isel(season=3)\n",
    "phytoC_sum = SIZ_values_ds_2090s.phytoC_50m_zint.sum(dim='season')\n",
    "\n",
    "SIZ_temp_2090s = (work/phytoC_sum).values\n",
    "SIZ_temp_2090s"
   ]
  },
  {
   "cell_type": "markdown",
   "metadata": {},
   "source": [
    "## start work on resource competition, parameter values are from CESM1"
   ]
  },
  {
   "cell_type": "markdown",
   "metadata": {},
   "source": [
    "#### cycle through values and calculate growth rate for sp and diat, taking difference"
   ]
  },
  {
   "cell_type": "markdown",
   "metadata": {},
   "source": [
    "# Fe and PAR"
   ]
  },
  {
   "cell_type": "markdown",
   "metadata": {},
   "source": [
    "## SIZ 1920s"
   ]
  },
  {
   "cell_type": "code",
   "execution_count": 3,
   "metadata": {},
   "outputs": [],
   "source": [
    "### Specify parameters\n",
    "Tref = 30.\n",
    "q10 = 2.0\n",
    "\n",
    "alpha_pi_diat = 0.3\n",
    "alpha_pi_sp = 0.34\n",
    "\n",
    "thetaN_max_diat = 4\n",
    "thetaN_max_sp = 2.5\n",
    "\n",
    "NtoC = 0.137\n",
    "\n",
    "thetaC_diat = thetaN_max_diat * NtoC\n",
    "thetaC_sp = thetaN_max_sp * NtoC\n",
    "\n",
    "PCref_diat = 4.8\n",
    "PCref_sp = 4.8\n",
    "\n",
    "kFe_diat = 8.e-5\n",
    "kFe_sp = 3.e-5\n",
    "\n",
    "## PAR and Fe ranges and temperature\n",
    "Fe_vals = np.arange(0.000004,0.00040,0.000004)\n",
    "PAR_vals = np.arange(0,35,0.35)\n",
    "T = -1.25283097 ## SIZ temp 1920s (biomass weighted)\n",
    "\n",
    "#calculate tfunc\n",
    "Tfunc = q10**((T - Tref) / 10.)\n",
    "\n",
    "## initialize empty matrices\n",
    "sp_growthrate_SIZ1920s = np.full((100,100),np.nan)\n",
    "diat_growthrate_SIZ1920s = np.full((100,100),np.nan)\n",
    "\n",
    "i=0\n",
    "j=0\n",
    "\n",
    "for Fe in Fe_vals: # i loop\n",
    "    \n",
    "    for PAR in PAR_vals: # j loop\n",
    "        \n",
    "        ### temperature adjusted max growth rate\n",
    "        max_gr = PCref_sp * Tfunc \n",
    "        \n",
    "        ##### small phytoplankton\n",
    "        sp_nut_lim = Fe/(Fe + kFe_sp)\n",
    "        \n",
    "        sp_light_lim = 1 - math.e ** ((-1. * alpha_pi_sp * thetaC_sp * PAR) / (max_gr * sp_nut_lim))\n",
    "        \n",
    "        sp_growthrate_SIZ1920s[j,i] = max_gr * sp_nut_lim * sp_light_lim\n",
    "        \n",
    "        #### diatoms\n",
    "        diat_nut_lim = Fe/(Fe + kFe_diat)\n",
    "        diat_light_lim = 1 - math.e ** ((-1. * alpha_pi_diat * thetaC_diat * PAR) / (max_gr * diat_nut_lim))\n",
    "        \n",
    "        diat_growthrate_SIZ1920s[j,i] = max_gr * diat_nut_lim * diat_light_lim\n",
    "        \n",
    "        j = j + 1\n",
    "        \n",
    "    i = i + 1\n",
    "    j = 0\n",
    "    \n",
    "sp_growthrate_SIZ1920s = xr.DataArray(sp_growthrate_SIZ1920s,dims=('par_vals','fe_vals'))\n",
    "diat_growthrate_SIZ1920s = xr.DataArray(diat_growthrate_SIZ1920s,dims=('par_vals','fe_vals'))"
   ]
  },
  {
   "cell_type": "markdown",
   "metadata": {},
   "source": [
    "### SIZ 1990s temp"
   ]
  },
  {
   "cell_type": "code",
   "execution_count": 4,
   "metadata": {},
   "outputs": [],
   "source": [
    "### Specify parameters\n",
    "Tref = 30.\n",
    "q10 = 2.0\n",
    "\n",
    "alpha_pi_diat = 0.3\n",
    "alpha_pi_sp = 0.34\n",
    "\n",
    "thetaN_max_diat = 4\n",
    "thetaN_max_sp = 2.5\n",
    "\n",
    "NtoC = 0.137\n",
    "\n",
    "thetaC_diat = thetaN_max_diat * NtoC\n",
    "thetaC_sp = thetaN_max_sp * NtoC\n",
    "\n",
    "PCref_diat = 4.8\n",
    "PCref_sp = 4.8\n",
    "\n",
    "kFe_diat = 8.e-5\n",
    "kFe_sp = 3.e-5\n",
    "\n",
    "## PAR and Fe ranges and temperature\n",
    "Fe_vals = np.arange(0.000004,0.00040,0.000004)\n",
    "PAR_vals = np.arange(0,35,0.35)\n",
    "T = -1.1135154 ## Siz temp 1990s\n",
    "\n",
    "#calculate tfunc\n",
    "Tfunc = q10**((T - Tref) / 10.)\n",
    "\n",
    "## initialize empty matrices\n",
    "sp_growthrate_SIZ1990s = np.full((100,100),np.nan)\n",
    "diat_growthrate_SIZ1990s = np.full((100,100),np.nan)\n",
    "\n",
    "i=0\n",
    "j=0\n",
    "\n",
    "for Fe in Fe_vals: # i loop\n",
    "    \n",
    "    for PAR in PAR_vals: # j loop\n",
    "        \n",
    "        ### temperature adjusted max growth rate\n",
    "        max_gr = PCref_sp * Tfunc \n",
    "        \n",
    "        ##### small phytoplankton\n",
    "        sp_nut_lim = Fe/(Fe + kFe_sp)\n",
    "        \n",
    "        sp_light_lim = 1 - math.e ** ((-1. * alpha_pi_sp * thetaC_sp * PAR) / (max_gr * sp_nut_lim))\n",
    "        \n",
    "        sp_growthrate_SIZ1990s[j,i] = max_gr * sp_nut_lim * sp_light_lim\n",
    "        \n",
    "        #### diatoms\n",
    "        diat_nut_lim = Fe/(Fe + kFe_diat)\n",
    "        diat_light_lim = 1 - math.e ** ((-1. * alpha_pi_diat * thetaC_diat * PAR) / (max_gr * diat_nut_lim))\n",
    "        \n",
    "        diat_growthrate_SIZ1990s[j,i] = max_gr * diat_nut_lim * diat_light_lim\n",
    "        \n",
    "        j = j + 1\n",
    "        \n",
    "    i = i + 1\n",
    "    j = 0\n",
    "    \n",
    "sp_growthrate_SIZ1990s = xr.DataArray(sp_growthrate_SIZ1990s,dims=('par_vals','fe_vals'))\n",
    "diat_growthrate_SIZ1990s = xr.DataArray(diat_growthrate_SIZ1990s,dims=('par_vals','fe_vals'))"
   ]
  },
  {
   "cell_type": "markdown",
   "metadata": {},
   "source": [
    "### SIZ 2090s temp"
   ]
  },
  {
   "cell_type": "code",
   "execution_count": 15,
   "metadata": {},
   "outputs": [],
   "source": [
    "### Specify parameters\n",
    "Tref = 30.\n",
    "q10 = 2.0\n",
    "\n",
    "alpha_pi_diat = 0.3\n",
    "alpha_pi_sp = 0.34\n",
    "\n",
    "thetaN_max_diat = 4\n",
    "thetaN_max_sp = 2.5\n",
    "\n",
    "NtoC = 0.137\n",
    "\n",
    "thetaC_diat = thetaN_max_diat * NtoC\n",
    "thetaC_sp = thetaN_max_sp * NtoC\n",
    "\n",
    "PCref_diat = 4.8\n",
    "PCref_sp = 4.8\n",
    "\n",
    "kFe_diat = 8.e-5\n",
    "kFe_sp = 3.e-5\n",
    "\n",
    "## PAR and Fe ranges and temperature\n",
    "Fe_vals = np.arange(0.000004,0.00040,0.000004)\n",
    "PAR_vals = np.arange(0,35,0.35)\n",
    "T = 0\n",
    "\n",
    "#calculate tfunc\n",
    "Tfunc = q10**((T - Tref) / 10.)\n",
    "\n",
    "## initialize empty matrices\n",
    "sp_growthrate_SIZ2090s = np.full((100,100),np.nan)\n",
    "diat_growthrate_SIZ2090s = np.full((100,100),np.nan)\n",
    "\n",
    "i=0\n",
    "j=0\n",
    "\n",
    "for Fe in Fe_vals: # i loop\n",
    "    \n",
    "    for PAR in PAR_vals: # j loop\n",
    "        \n",
    "        ### temperature adjusted max growth rate\n",
    "        max_gr = PCref_sp * Tfunc \n",
    "        \n",
    "        ##### small phytoplankton\n",
    "        sp_nut_lim = Fe/(Fe + kFe_sp)\n",
    "        \n",
    "        sp_light_lim = 1 - math.e ** ((-1. * alpha_pi_sp * thetaC_sp * PAR) / (max_gr * sp_nut_lim))\n",
    "        \n",
    "        sp_growthrate_SIZ2090s[j,i] = max_gr * sp_nut_lim * sp_light_lim\n",
    "        \n",
    "        #### diatoms\n",
    "        diat_nut_lim = Fe/(Fe + kFe_diat)\n",
    "        diat_light_lim = 1 - math.e ** ((-1. * alpha_pi_diat * thetaC_diat * PAR) / (max_gr * diat_nut_lim))\n",
    "        \n",
    "        diat_growthrate_SIZ2090s[j,i] = max_gr * diat_nut_lim * diat_light_lim\n",
    "        \n",
    "        j = j + 1\n",
    "        \n",
    "    i = i + 1\n",
    "    j = 0\n",
    "    \n",
    "sp_growthrate_SIZ2090s = xr.DataArray(sp_growthrate_SIZ2090s,dims=('par_vals','fe_vals'))\n",
    "diat_growthrate_SIZ2090s = xr.DataArray(diat_growthrate_SIZ2090s,dims=('par_vals','fe_vals'))"
   ]
  },
  {
   "cell_type": "markdown",
   "metadata": {},
   "source": [
    "### ACC 1920s temp"
   ]
  },
  {
   "cell_type": "code",
   "execution_count": 16,
   "metadata": {},
   "outputs": [],
   "source": [
    "### Specify parameters\n",
    "Tref = 30.\n",
    "q10 = 2.0\n",
    "\n",
    "alpha_pi_diat = 0.3\n",
    "alpha_pi_sp = 0.34\n",
    "\n",
    "thetaN_max_diat = 4\n",
    "thetaN_max_sp = 2.5\n",
    "\n",
    "NtoC = 0.137\n",
    "\n",
    "thetaC_diat = thetaN_max_diat * NtoC\n",
    "thetaC_sp = thetaN_max_sp * NtoC\n",
    "\n",
    "PCref_diat = 4.8\n",
    "PCref_sp = 4.8\n",
    "\n",
    "kFe_diat = 8.e-5\n",
    "kFe_sp = 3.e-5\n",
    "\n",
    "## PAR and Fe ranges and temperature\n",
    "Fe_vals = np.arange(0.000004,0.00040,0.000004)\n",
    "PAR_vals = np.arange(0,35,0.35)\n",
    "T = 4\n",
    "\n",
    "#calculate tfunc\n",
    "Tfunc = q10**((T - Tref) / 10.)\n",
    "\n",
    "## initialize empty matrices\n",
    "sp_growthrate_ACC1920s = np.full((100,100),np.nan)\n",
    "diat_growthrate_ACC1920s = np.full((100,100),np.nan)\n",
    "\n",
    "i=0\n",
    "j=0\n",
    "\n",
    "for Fe in Fe_vals: # i loop\n",
    "    \n",
    "    for PAR in PAR_vals: # j loop\n",
    "        \n",
    "        ### temperature adjusted max growth rate\n",
    "        max_gr = PCref_sp * Tfunc \n",
    "        \n",
    "        ##### small phytoplankton\n",
    "        sp_nut_lim = Fe/(Fe + kFe_sp)\n",
    "        \n",
    "        sp_light_lim = 1 - math.e ** ((-1. * alpha_pi_sp * thetaC_sp * PAR) / (max_gr * sp_nut_lim))\n",
    "        \n",
    "        sp_growthrate_ACC1920s[j,i] = max_gr * sp_nut_lim * sp_light_lim\n",
    "        \n",
    "        #### diatoms\n",
    "        diat_nut_lim = Fe/(Fe + kFe_diat)\n",
    "        diat_light_lim = 1 - math.e ** ((-1. * alpha_pi_diat * thetaC_diat * PAR) / (max_gr * diat_nut_lim))\n",
    "        \n",
    "        diat_growthrate_ACC1920s[j,i] = max_gr * diat_nut_lim * diat_light_lim\n",
    "        \n",
    "        j = j + 1\n",
    "        \n",
    "    i = i + 1\n",
    "    j = 0\n",
    "    \n",
    "sp_growthrate_ACC1920s = xr.DataArray(sp_growthrate_ACC1920s,dims=('par_vals','fe_vals'))\n",
    "diat_growthrate_ACC1920s = xr.DataArray(diat_growthrate_ACC1920s,dims=('par_vals','fe_vals'))"
   ]
  },
  {
   "cell_type": "markdown",
   "metadata": {},
   "source": [
    "### ACC 1990s temp"
   ]
  },
  {
   "cell_type": "code",
   "execution_count": 17,
   "metadata": {},
   "outputs": [],
   "source": [
    "### Specify parameters\n",
    "Tref = 30.\n",
    "q10 = 2.0\n",
    "\n",
    "alpha_pi_diat = 0.3\n",
    "alpha_pi_sp = 0.34\n",
    "\n",
    "thetaN_max_diat = 4\n",
    "thetaN_max_sp = 2.5\n",
    "\n",
    "NtoC = 0.137\n",
    "\n",
    "thetaC_diat = thetaN_max_diat * NtoC\n",
    "thetaC_sp = thetaN_max_sp * NtoC\n",
    "\n",
    "PCref_diat = 4.8\n",
    "PCref_sp = 4.8\n",
    "\n",
    "kFe_diat = 8.e-5\n",
    "kFe_sp = 3.e-5\n",
    "\n",
    "## PAR and Fe ranges and temperature\n",
    "Fe_vals = np.arange(0.000004,0.00040,0.000004)\n",
    "PAR_vals = np.arange(0,35,0.35)\n",
    "T = 5\n",
    "\n",
    "#calculate tfunc\n",
    "Tfunc = q10**((T - Tref) / 10.)\n",
    "\n",
    "## initialize empty matrices\n",
    "sp_growthrate_ACC1990s = np.full((100,100),np.nan)\n",
    "diat_growthrate_ACC1990s = np.full((100,100),np.nan)\n",
    "\n",
    "i=0\n",
    "j=0\n",
    "\n",
    "for Fe in Fe_vals: # i loop\n",
    "    \n",
    "    for PAR in PAR_vals: # j loop\n",
    "        \n",
    "        ### temperature adjusted max growth rate\n",
    "        max_gr = PCref_sp * Tfunc \n",
    "        \n",
    "        ##### small phytoplankton\n",
    "        sp_nut_lim = Fe/(Fe + kFe_sp)\n",
    "        \n",
    "        sp_light_lim = 1 - math.e ** ((-1. * alpha_pi_sp * thetaC_sp * PAR) / (max_gr * sp_nut_lim))\n",
    "        \n",
    "        sp_growthrate_ACC1990s[j,i] = max_gr * sp_nut_lim * sp_light_lim\n",
    "        \n",
    "        #### diatoms\n",
    "        diat_nut_lim = Fe/(Fe + kFe_diat)\n",
    "        diat_light_lim = 1 - math.e ** ((-1. * alpha_pi_diat * thetaC_diat * PAR) / (max_gr * diat_nut_lim))\n",
    "        \n",
    "        diat_growthrate_ACC1990s[j,i] = max_gr * diat_nut_lim * diat_light_lim\n",
    "        \n",
    "        j = j + 1\n",
    "        \n",
    "    i = i + 1\n",
    "    j = 0\n",
    "    \n",
    "sp_growthrate_ACC1990s = xr.DataArray(sp_growthrate_ACC1990s,dims=('par_vals','fe_vals'))\n",
    "diat_growthrate_ACC1990s = xr.DataArray(diat_growthrate_ACC1990s,dims=('par_vals','fe_vals'))"
   ]
  },
  {
   "cell_type": "markdown",
   "metadata": {},
   "source": [
    "### ACC 2090s temp"
   ]
  },
  {
   "cell_type": "code",
   "execution_count": 18,
   "metadata": {},
   "outputs": [],
   "source": [
    "### Specify parameters\n",
    "Tref = 30.\n",
    "q10 = 2.0\n",
    "\n",
    "alpha_pi_diat = 0.3\n",
    "alpha_pi_sp = 0.34\n",
    "\n",
    "thetaN_max_diat = 4\n",
    "thetaN_max_sp = 2.5\n",
    "\n",
    "NtoC = 0.137\n",
    "\n",
    "thetaC_diat = thetaN_max_diat * NtoC\n",
    "thetaC_sp = thetaN_max_sp * NtoC\n",
    "\n",
    "PCref_diat = 4.8\n",
    "PCref_sp = 4.8\n",
    "\n",
    "kFe_diat = 8.e-5\n",
    "kFe_sp = 3.e-5\n",
    "\n",
    "## PAR and Fe ranges and temperature\n",
    "Fe_vals = np.arange(0.000004,0.00040,0.000004)\n",
    "PAR_vals = np.arange(0,35,0.35)\n",
    "T = 7\n",
    "\n",
    "#calculate tfunc\n",
    "Tfunc = q10**((T - Tref) / 10.)\n",
    "\n",
    "## initialize empty matrices\n",
    "sp_growthrate_ACC2090s = np.full((100,100),np.nan)\n",
    "diat_growthrate_ACC2090s = np.full((100,100),np.nan)\n",
    "\n",
    "i=0\n",
    "j=0\n",
    "\n",
    "for Fe in Fe_vals: # i loop\n",
    "    \n",
    "    for PAR in PAR_vals: # j loop\n",
    "        \n",
    "        ### temperature adjusted max growth rate\n",
    "        max_gr = PCref_sp * Tfunc \n",
    "        \n",
    "        ##### small phytoplankton\n",
    "        sp_nut_lim = Fe/(Fe + kFe_sp)\n",
    "        \n",
    "        sp_light_lim = 1 - math.e ** ((-1. * alpha_pi_sp * thetaC_sp * PAR) / (max_gr * sp_nut_lim))\n",
    "        \n",
    "        sp_growthrate_ACC2090s[j,i] = max_gr * sp_nut_lim * sp_light_lim\n",
    "        \n",
    "        #### diatoms\n",
    "        diat_nut_lim = Fe/(Fe + kFe_diat)\n",
    "        diat_light_lim = 1 - math.e ** ((-1. * alpha_pi_diat * thetaC_diat * PAR) / (max_gr * diat_nut_lim))\n",
    "        \n",
    "        diat_growthrate_ACC2090s[j,i] = max_gr * diat_nut_lim * diat_light_lim\n",
    "        \n",
    "        j = j + 1\n",
    "        \n",
    "    i = i + 1\n",
    "    j = 0\n",
    "    \n",
    "sp_growthrate_ACC2090s = xr.DataArray(sp_growthrate_ACC2090s,dims=('par_vals','fe_vals'))\n",
    "diat_growthrate_ACC2090s = xr.DataArray(diat_growthrate_ACC2090s,dims=('par_vals','fe_vals'))"
   ]
  },
  {
   "cell_type": "code",
   "execution_count": null,
   "metadata": {},
   "outputs": [],
   "source": []
  },
  {
   "cell_type": "code",
   "execution_count": 19,
   "metadata": {},
   "outputs": [
    {
     "data": {
      "image/png": "[encoded data removed]",
      "text/plain": [
       "<Figure size 864x360 with 6 Axes>"
      ]
     },
     "metadata": {
      "needs_background": "light"
     },
     "output_type": "display_data"
    }
   ],
   "source": [
    "fig = plt.figure(figsize=(12,5))\n",
    "\n",
    "ax = fig.add_subplot(1,3,1)\n",
    "ax.set_title('A) SP growth rate', x=0.3)\n",
    "pc=ax.pcolormesh(Fe_vals, PAR_vals, sp_growthrate_ACC2090s,cmap='jet',vmin=0,vmax=1)\n",
    "ax.set_ylabel('PAR (W m$^{-2}$)')\n",
    "ax.set_xlabel('[Fe] (µmol m$^{-3}$)')\n",
    "labels = ['0.0','0.05','0.1','0.15','0.20','0.25','0.30','0.35','0.40']\n",
    "ax.set_xticklabels(labels)\n",
    "cbar1 = fig.colorbar(pc, ax=ax,extend='max',label='Growth rate (d$^{-1}$)',orientation='horizontal')\n",
    "\n",
    "ax = fig.add_subplot(1,3,2)\n",
    "ax.set_title('B) Diatom growth rate', x=0.35)\n",
    "pc=ax.pcolormesh(Fe_vals, PAR_vals, diat_growthrate_ACC2090s,cmap='jet',vmin=0,vmax=1)\n",
    "ax.set_ylabel('PAR (W m$^{-2}$)')\n",
    "ax.set_xlabel('[Fe] (µmol m$^{-3}$)')\n",
    "labels = ['0.0','0.05','0.1','0.15','0.20','0.25','0.30','0.35','0.40']\n",
    "ax.set_xticklabels(labels)\n",
    "cbar1 = fig.colorbar(pc, ax=ax,extend='max',label='Growth rate (d$^{-1}$)',orientation='horizontal')\n",
    "\n",
    "ax = fig.add_subplot(1,3,3)\n",
    "ax.set_title('C) Difference', x=0.2)\n",
    "pc=ax.pcolormesh(Fe_vals, PAR_vals, sp_growthrate_ACC2090s-diat_growthrate_ACC2090s,cmap='bwr',vmin=-0.1,vmax=0.1)\n",
    "ax.set_ylabel('PAR (W m$^{-2}$)')\n",
    "ax.set_xlabel('[Fe] (µmol m$^{-3}$)')\n",
    "labels = ['0.0','0.05','0.1','0.15','0.20','0.25','0.30','0.35','0.40']\n",
    "ax.set_xticklabels(labels)\n",
    "#cbar1 = fig.colorbar(pc, ax=ax,extend='both',label='Growth rate (d$^{-1}$)',orientation='horizontal')\n",
    "\n",
    "cbar = fig.colorbar(pc, ax=ax,extend='both',label='Growth rate (d$^{-1}$)',orientation='horizontal', ticks=[-0.1,-0.05,0,0.05,0.1])\n",
    "#cbar.ax.set_yticklabels(['-0.1','-0.05','0','0.05','0.1']) \n",
    "\n",
    "plt.subplots_adjust(wspace=0.25)\n",
    "\n",
    "#fig.savefig('/glade/work/kristenk/figs/example_resource_comp.png', bbox_inches='tight', dpi=300, format='png');"
   ]
  },
  {
   "cell_type": "code",
   "execution_count": 20,
   "metadata": {},
   "outputs": [
    {
     "data": {
      "image/png": "[encoded data removed]",
      "text/plain": [
       "<Figure size 360x288 with 2 Axes>"
      ]
     },
     "metadata": {
      "needs_background": "light"
     },
     "output_type": "display_data"
    }
   ],
   "source": [
    "fig = plt.figure(figsize=(5,4))\n",
    "\n",
    "\n",
    "ax = fig.add_subplot(1,1,1)\n",
    "ax.set_title('ACC 2090s bkgd with 1920s contour')\n",
    "pc=ax.pcolormesh(Fe_vals, PAR_vals, sp_growthrate_ACC2090s-diat_growthrate_ACC2090s,cmap='bwr',vmin=-0.1,vmax=0.1)\n",
    "pci=ax.contour(Fe_vals, PAR_vals, sp_growthrate_ACC1920s-diat_growthrate_ACC1920s,levels=[0],colors='teal',linestyles='dotted')\n",
    "#ax.set_ylabel('PAR (W m$^{-2}$)')\n",
    "ax.set_xlabel('[Fe] (µmol m$^{-3}$)')\n",
    "labels = ['0.0','0.05','0.1','0.15','0.20','0.25','0.30','0.35','0.40']\n",
    "ax.set_xticklabels(labels)\n",
    "\n",
    "\n",
    "### color base\n",
    "fig.subplots_adjust(right=0.8,wspace=0.1)\n",
    "cbar_ax = fig.add_axes([0.82, 0.15, 0.016, 0.7])\n",
    "fig.colorbar(pc, cax=cbar_ax, extend='both', label='Growth rate difference (SP - Diatom; d$^{-1}$)');\n",
    "\n",
    "#fig.savefig('/glade/work/kristenk/figs/Fe_PAR_resource_competition.png', bbox_inches='tight', dpi=300, format='png');"
   ]
  },
  {
   "cell_type": "code",
   "execution_count": 21,
   "metadata": {},
   "outputs": [
    {
     "data": {
      "image/png": "[encoded data removed]",
      "text/plain": [
       "<Figure size 360x288 with 2 Axes>"
      ]
     },
     "metadata": {
      "needs_background": "light"
     },
     "output_type": "display_data"
    }
   ],
   "source": [
    "fig = plt.figure(figsize=(5,4))\n",
    "\n",
    "\n",
    "ax = fig.add_subplot(1,1,1)\n",
    "ax.set_title('SIZ 2090s bkgd with 1920s contour')\n",
    "pc=ax.pcolormesh(Fe_vals, PAR_vals, sp_growthrate_SIZ2090s-diat_growthrate_SIZ2090s,cmap='bwr',vmin=-0.1,vmax=0.1)\n",
    "pci=ax.contour(Fe_vals, PAR_vals, sp_growthrate_SIZ1920s-diat_growthrate_SIZ1920s,colors='teal',levels=[0],linestyles='dotted')\n",
    "#ax.set_ylabel('PAR (W m$^{-2}$)')\n",
    "ax.set_xlabel('[Fe] (µmol m$^{-3}$)')\n",
    "labels = ['0.0','0.05','0.1','0.15','0.20','0.25','0.30','0.35','0.40']\n",
    "ax.set_xticklabels(labels)\n",
    "\n",
    "### color base\n",
    "fig.subplots_adjust(right=0.8,wspace=0.1)\n",
    "cbar_ax = fig.add_axes([0.82, 0.15, 0.016, 0.7])\n",
    "fig.colorbar(pc, cax=cbar_ax, extend='both', label='Growth rate difference (SP - Diatom; d$^{-1}$)');\n",
    "\n",
    "#fig.savefig('/glade/work/kristenk/figs/Fe_PAR_resource_competition.png', bbox_inches='tight', dpi=300, format='png');"
   ]
  },
  {
   "cell_type": "markdown",
   "metadata": {},
   "source": [
    "# Fe and temp"
   ]
  },
  {
   "cell_type": "code",
   "execution_count": 26,
   "metadata": {},
   "outputs": [],
   "source": [
    "### Specify parameters\n",
    "Tref = 30.\n",
    "q10 = 2.0\n",
    "\n",
    "alpha_pi_diat = 0.3\n",
    "alpha_pi_sp = 0.34\n",
    "\n",
    "thetaN_max_diat = 4\n",
    "thetaN_max_sp = 2.5\n",
    "\n",
    "NtoC = 0.137\n",
    "\n",
    "thetaC_diat = thetaN_max_diat * NtoC\n",
    "thetaC_sp = thetaN_max_sp * NtoC\n",
    "\n",
    "PCref_diat = 4.8\n",
    "PCref_sp = 4.8\n",
    "\n",
    "kFe_diat = 8.e-5\n",
    "kFe_sp = 3.e-5\n",
    "\n",
    "## PAR and Fe ranges and temperature\n",
    "Fe_vals = np.arange(0.000004,0.00040,0.000004)\n",
    "temp_vals = np.arange(0,14,0.14)\n",
    "PAR = 20\n",
    "\n",
    "## initialize empty matrices\n",
    "sp_growthrate = np.full((100,100),np.nan)\n",
    "diat_growthrate = np.full((100,100),np.nan)\n",
    "\n",
    "i=0\n",
    "j=0\n",
    "\n",
    "for T in temp_vals: # i loop\n",
    "    \n",
    "    for PAR in PAR_vals: # j loop\n",
    "        \n",
    "        #calculate tfunc\n",
    "        Tfunc = q10**((T - Tref) / 10.)\n",
    "        \n",
    "        ### temperature adjusted max growth rate\n",
    "        max_gr = PCref_sp * Tfunc \n",
    "        \n",
    "        ##### small phytoplankton\n",
    "        sp_nut_lim = Fe/(Fe + kFe_sp)\n",
    "        \n",
    "        sp_light_lim = 1 - math.e ** ((-1. * alpha_pi_sp * thetaC_sp * PAR) / (max_gr * sp_nut_lim))\n",
    "        \n",
    "        sp_growthrate[j,i] = max_gr * sp_nut_lim * sp_light_lim\n",
    "        \n",
    "        #### diatoms\n",
    "        diat_nut_lim = Fe/(Fe + kFe_diat)\n",
    "        diat_light_lim = 1 - math.e ** ((-1. * alpha_pi_diat * thetaC_diat * PAR) / (max_gr * diat_nut_lim))\n",
    "        \n",
    "        diat_growthrate[j,i] = max_gr * diat_nut_lim * diat_light_lim\n",
    "        \n",
    "        j = j + 1\n",
    "        \n",
    "    i = i + 1\n",
    "    j = 0\n",
    "    \n",
    "sp_growthrate = xr.DataArray(sp_growthrate_ACC1920s,dims=('temp_vals','fe_vals'))\n",
    "diat_growthrate = xr.DataArray(diat_growthrate_ACC1920s,dims=('temp_vals','fe_vals'))"
   ]
  },
  {
   "cell_type": "code",
   "execution_count": 23,
   "metadata": {},
   "outputs": [
    {
     "data": {
      "text/plain": [
       "100"
      ]
     },
     "execution_count": 23,
     "metadata": {},
     "output_type": "execute_result"
    }
   ],
   "source": [
    "len(temp_vals)"
   ]
  },
  {
   "cell_type": "code",
   "execution_count": 27,
   "metadata": {},
   "outputs": [
    {
     "data": {
      "image/png": "[encoded data removed]",
      "text/plain": [
       "<Figure size 864x360 with 6 Axes>"
      ]
     },
     "metadata": {
      "needs_background": "light"
     },
     "output_type": "display_data"
    }
   ],
   "source": [
    "fig = plt.figure(figsize=(12,5))\n",
    "\n",
    "ax = fig.add_subplot(1,3,1)\n",
    "ax.set_title('A) SP growth rate', x=0.3)\n",
    "pc=ax.pcolormesh(Fe_vals, temp_vals, sp_growthrate,cmap='jet',vmin=0,vmax=1)\n",
    "ax.set_ylabel('Temperature (°C)')\n",
    "ax.set_xlabel('[Fe] (µmol m$^{-3}$)')\n",
    "#labels = ['0.0','0.05','0.1','0.15','0.20','0.25','0.30','0.35','0.40']\n",
    "#ax.set_xticklabels(labels)\n",
    "cbar1 = fig.colorbar(pc, ax=ax,extend='max',label='Growth rate (d$^{-1}$)',orientation='horizontal')\n",
    "\n",
    "ax = fig.add_subplot(1,3,2)\n",
    "ax.set_title('B) Diatom growth rate', x=0.35)\n",
    "pc=ax.pcolormesh(Fe_vals, PAR_vals, diat_growthrate,cmap='jet',vmin=0,vmax=1)\n",
    "ax.set_ylabel('Temperature (°C))')\n",
    "ax.set_xlabel('[Fe] (µmol m$^{-3}$)')\n",
    "#labels = ['0.0','0.05','0.1','0.15','0.20','0.25','0.30','0.35','0.40']\n",
    "#ax.set_xticklabels(labels)\n",
    "cbar1 = fig.colorbar(pc, ax=ax,extend='max',label='Growth rate (d$^{-1}$)',orientation='horizontal')\n",
    "\n",
    "ax = fig.add_subplot(1,3,3)\n",
    "ax.set_title('C) Difference', x=0.2)\n",
    "pc=ax.pcolormesh(Fe_vals, PAR_vals, sp_growthrate-diat_growthrate,cmap='bwr',vmin=-0.1,vmax=0.1)\n",
    "ax.set_ylabel('Temperature (°C)')\n",
    "ax.set_xlabel('[Fe] (µmol m$^{-3}$)')\n",
    "#labels = ['0.0','0.05','0.1','0.15','0.20','0.25','0.30','0.35','0.40']\n",
    "#ax.set_xticklabels(labels)\n",
    "#cbar1 = fig.colorbar(pc, ax=ax,extend='both',label='Growth rate (d$^{-1}$)',orientation='horizontal')\n",
    "\n",
    "cbar = fig.colorbar(pc, ax=ax,extend='both',label='Growth rate (d$^{-1}$)',orientation='horizontal', ticks=[-0.1,-0.05,0,0.05,0.1])\n",
    "#cbar.ax.set_yticklabels(['-0.1','-0.05','0','0.05','0.1']) \n",
    "\n",
    "plt.subplots_adjust(wspace=0.25)\n",
    "\n",
    "#fig.savefig('/glade/work/kristenk/figs/example_resource_comp.png', bbox_inches='tight', dpi=300, format='png');"
   ]
  },
  {
   "cell_type": "code",
   "execution_count": null,
   "metadata": {},
   "outputs": [],
   "source": []
  }
 ],
 "metadata": {
  "kernelspec": {
   "display_name": "Python [conda env:miniconda-analysis4]",
   "language": "python",
   "name": "conda-env-miniconda-analysis4-py"
  },
  "language_info": {
   "codemirror_mode": {
    "name": "ipython",
    "version": 3
   },
   "file_extension": ".py",
   "mimetype": "text/x-python",
   "name": "python",
   "nbconvert_exporter": "python",
   "pygments_lexer": "ipython3",
   "version": "3.7.9"
  }
 },
 "nbformat": 4,
 "nbformat_minor": 4
}
