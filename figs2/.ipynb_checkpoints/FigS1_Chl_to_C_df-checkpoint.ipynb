{
 "cells": [
  {
   "cell_type": "code",
   "execution_count": 1,
   "id": "active-swift",
   "metadata": {},
   "outputs": [],
   "source": [
    "%matplotlib inline\n",
    "import warnings\n",
    "warnings.filterwarnings('ignore')\n",
    "import os\n",
    "from glob import glob\n",
    "from collections import OrderedDict\n",
    "import xarray as xr\n",
    "import numpy as np\n",
    "\n",
    "import esmlab\n",
    "import matplotlib.pyplot as plt\n",
    "import cartopy\n",
    "import cartopy.crs as ccrs\n",
    "from scipy import stats\n",
    "import pop_tools \n",
    "\n",
    "from statistics import mean\n",
    "from matplotlib import style\n",
    "from scipy import stats\n",
    "import pandas as pd\n",
    "\n",
    "style.use('default')\n",
    "import matplotlib.path as mpath\n",
    "\n",
    "from IPython.display import Image"
   ]
  },
  {
   "cell_type": "code",
   "execution_count": 17,
   "id": "weird-stake",
   "metadata": {},
   "outputs": [],
   "source": [
    "df = pd.DataFrame(columns=['PFT_group','study', 'species', 'isolate_location','gChl/gC'])"
   ]
  },
  {
   "cell_type": "code",
   "execution_count": 18,
   "id": "expected-maximum",
   "metadata": {},
   "outputs": [],
   "source": [
    "df = df.append({'PFT_group': 'diat',\n",
    "                'study': 'Lomas_etal_2019', \n",
    "                'species': 'Attheya septentrionalis', \n",
    "                'isolate_location': 'Baffin Bay (77.8N, 76.4W), N. Atlantic Ocean',\n",
    "                'gChl/gC':0.13}, ignore_index=True)"
   ]
  },
  {
   "cell_type": "code",
   "execution_count": 19,
   "id": "frank-trance",
   "metadata": {},
   "outputs": [],
   "source": [
    "df = df.append({'PFT_group': 'diat',\n",
    "                'study': 'Lomas_etal_2019', \n",
    "                'species': 'Skeletonema dohrni', \n",
    "                'isolate_location': 'Kasitsna Bay (59.5N, 151.4W), Alaska',\n",
    "                'gChl/gC':0.04}, ignore_index=True)"
   ]
  },
  {
   "cell_type": "code",
   "execution_count": 20,
   "id": "indoor-sheep",
   "metadata": {},
   "outputs": [],
   "source": [
    "df = df.append({'PFT_group': 'diat',\n",
    "                'study': 'Lomas_etal_2019', \n",
    "                'species': 'Porosira glacialis', \n",
    "                'isolate_location': 'Narragansett Bay (41.6N, 71.4W), Rhode Island',\n",
    "                'gChl/gC':0.06}, ignore_index=True)"
   ]
  },
  {
   "cell_type": "code",
   "execution_count": 21,
   "id": "convertible-retrieval",
   "metadata": {},
   "outputs": [],
   "source": [
    "df = df.append({'PFT_group': 'diat',\n",
    "                'study': 'Lomas_etal_2019', \n",
    "                'species': 'Melosira nummuloides', \n",
    "                'isolate_location': 'Harwich Harbor (41.7N, 70W), Massachusetts',\n",
    "                'gChl/gC':0.04}, ignore_index=True)"
   ]
  },
  {
   "cell_type": "code",
   "execution_count": 22,
   "id": "junior-factory",
   "metadata": {},
   "outputs": [],
   "source": [
    "df = df.append({'PFT_group': 'diat',\n",
    "                'study': 'Lomas_etal_2019', \n",
    "                'species': 'Odontella aurita', \n",
    "                'isolate_location': 'Webb Cove 44.2N, 69.5W), Stonington, Maine',\n",
    "                'gChl/gC':0.05}, ignore_index=True)"
   ]
  },
  {
   "cell_type": "code",
   "execution_count": 25,
   "id": "curious-mount",
   "metadata": {},
   "outputs": [],
   "source": [
    "df = df.append({'PFT_group': 'diat',\n",
    "                'study': 'Lomas_etal_2019', \n",
    "                'species': 'Thalassiosira antarctica', \n",
    "                'isolate_location': 'Oslo Fjord (59.5N, −10.6W), Norway',\n",
    "                'gChl/gC':0.06}, ignore_index=True)"
   ]
  },
  {
   "cell_type": "code",
   "execution_count": 26,
   "id": "aquatic-jewelry",
   "metadata": {},
   "outputs": [],
   "source": [
    "df = df.append({'PFT_group': 'diat',\n",
    "                'study': 'Lomas_etal_2019', \n",
    "                'species': 'Thalassiosira nordenskioeldii', \n",
    "                'isolate_location': 'Tromsø (69.7N, −18.7W), Norway',\n",
    "                'gChl/gC':0.07}, ignore_index=True)"
   ]
  },
  {
   "cell_type": "code",
   "execution_count": 27,
   "id": "curious-zoning",
   "metadata": {},
   "outputs": [],
   "source": [
    "df = df.append({'PFT_group': 'diat',\n",
    "                'study': 'Lomas_etal_2019', \n",
    "                'species': 'Thalassiosira aestivalis', \n",
    "                'isolate_location': 'North Atlantic Ocean (42.7N, 69.6W)',\n",
    "                'gChl/gC':0.04}, ignore_index=True)"
   ]
  },
  {
   "cell_type": "code",
   "execution_count": 28,
   "id": "accepting-coalition",
   "metadata": {},
   "outputs": [],
   "source": [
    "df = df.append({'PFT_group': 'diat',\n",
    "                'study': 'Lomas_etal_2019', \n",
    "                'species': 'Thalassiosira gravida', \n",
    "                'isolate_location': 'Tromsø (59.5N, −10.6W), Norway',\n",
    "                'gChl/gC':0.06}, ignore_index=True)"
   ]
  },
  {
   "cell_type": "code",
   "execution_count": null,
   "id": "active-jamaica",
   "metadata": {},
   "outputs": [],
   "source": []
  },
  {
   "cell_type": "code",
   "execution_count": null,
   "id": "generous-franklin",
   "metadata": {},
   "outputs": [],
   "source": []
  },
  {
   "cell_type": "markdown",
   "id": "romance-reserve",
   "metadata": {},
   "source": [
    "### CESM diat gChl/gC:\n",
    "#### diat: 0.046\n",
    "#### sp: 0.028"
   ]
  },
  {
   "cell_type": "code",
   "execution_count": 29,
   "id": "directed-arrest",
   "metadata": {},
   "outputs": [
    {
     "data": {
      "text/html": [
       "<div>\n",
       "<style scoped>\n",
       "    .dataframe tbody tr th:only-of-type {\n",
       "        vertical-align: middle;\n",
       "    }\n",
       "\n",
       "    .dataframe tbody tr th {\n",
       "        vertical-align: top;\n",
       "    }\n",
       "\n",
       "    .dataframe thead th {\n",
       "        text-align: right;\n",
       "    }\n",
       "</style>\n",
       "<table border=\"1\" class=\"dataframe\">\n",
       "  <thead>\n",
       "    <tr style=\"text-align: right;\">\n",
       "      <th></th>\n",
       "      <th>PFT_group</th>\n",
       "      <th>study</th>\n",
       "      <th>species</th>\n",
       "      <th>isolate_location</th>\n",
       "      <th>gChl/gC</th>\n",
       "    </tr>\n",
       "  </thead>\n",
       "  <tbody>\n",
       "    <tr>\n",
       "      <th>0</th>\n",
       "      <td>diat</td>\n",
       "      <td>Lomas_etal_2019</td>\n",
       "      <td>Attheya septentrionalis</td>\n",
       "      <td>Baffin Bay (77.8N, 76.4W), N. Atlantic Ocean</td>\n",
       "      <td>0.13</td>\n",
       "    </tr>\n",
       "    <tr>\n",
       "      <th>1</th>\n",
       "      <td>diat</td>\n",
       "      <td>Lomas_etal_2019</td>\n",
       "      <td>Skeletonema dohrni</td>\n",
       "      <td>Kasitsna Bay (59.5N, 151.4W), Alaska</td>\n",
       "      <td>0.04</td>\n",
       "    </tr>\n",
       "    <tr>\n",
       "      <th>2</th>\n",
       "      <td>diat</td>\n",
       "      <td>Lomas_etal_2019</td>\n",
       "      <td>Porosira glacialis</td>\n",
       "      <td>Narragansett Bay (41.6N, 71.4W), Rhode Island</td>\n",
       "      <td>0.06</td>\n",
       "    </tr>\n",
       "    <tr>\n",
       "      <th>3</th>\n",
       "      <td>diat</td>\n",
       "      <td>Lomas_etal_2019</td>\n",
       "      <td>Melosira nummuloides</td>\n",
       "      <td>Harwich Harbor (41.7N, 70W), Massachusetts</td>\n",
       "      <td>0.04</td>\n",
       "    </tr>\n",
       "    <tr>\n",
       "      <th>4</th>\n",
       "      <td>diat</td>\n",
       "      <td>Lomas_etal_2019</td>\n",
       "      <td>Odontella aurita</td>\n",
       "      <td>Webb Cove 44.2N, 69.5W), Stonington, Maine</td>\n",
       "      <td>0.05</td>\n",
       "    </tr>\n",
       "    <tr>\n",
       "      <th>5</th>\n",
       "      <td>diat</td>\n",
       "      <td>Lomas_etal_2019</td>\n",
       "      <td>Thalassiosira antarctica</td>\n",
       "      <td>Oslo Fjord (59.5N, −10.6W), Norway</td>\n",
       "      <td>0.06</td>\n",
       "    </tr>\n",
       "    <tr>\n",
       "      <th>6</th>\n",
       "      <td>diat</td>\n",
       "      <td>Lomas_etal_2019</td>\n",
       "      <td>Thalassiosira nordenskioeldii</td>\n",
       "      <td>Tromsø (69.7N, −18.7W), Norway</td>\n",
       "      <td>0.07</td>\n",
       "    </tr>\n",
       "    <tr>\n",
       "      <th>7</th>\n",
       "      <td>diat</td>\n",
       "      <td>Lomas_etal_2019</td>\n",
       "      <td>Thalassiosira aestivalis</td>\n",
       "      <td>North Atlantic Ocean (42.7N, 69.6W)</td>\n",
       "      <td>0.04</td>\n",
       "    </tr>\n",
       "    <tr>\n",
       "      <th>8</th>\n",
       "      <td>diat</td>\n",
       "      <td>Lomas_etal_2019</td>\n",
       "      <td>Thalassiosira gravida</td>\n",
       "      <td>Tromsø (59.5N, −10.6W), Norway</td>\n",
       "      <td>0.06</td>\n",
       "    </tr>\n",
       "  </tbody>\n",
       "</table>\n",
       "</div>"
      ],
      "text/plain": [
       "  PFT_group            study                        species  \\\n",
       "0      diat  Lomas_etal_2019        Attheya septentrionalis   \n",
       "1      diat  Lomas_etal_2019             Skeletonema dohrni   \n",
       "2      diat  Lomas_etal_2019             Porosira glacialis   \n",
       "3      diat  Lomas_etal_2019           Melosira nummuloides   \n",
       "4      diat  Lomas_etal_2019               Odontella aurita   \n",
       "5      diat  Lomas_etal_2019       Thalassiosira antarctica   \n",
       "6      diat  Lomas_etal_2019  Thalassiosira nordenskioeldii   \n",
       "7      diat  Lomas_etal_2019       Thalassiosira aestivalis   \n",
       "8      diat  Lomas_etal_2019          Thalassiosira gravida   \n",
       "\n",
       "                                isolate_location  gChl/gC  \n",
       "0   Baffin Bay (77.8N, 76.4W), N. Atlantic Ocean     0.13  \n",
       "1           Kasitsna Bay (59.5N, 151.4W), Alaska     0.04  \n",
       "2  Narragansett Bay (41.6N, 71.4W), Rhode Island     0.06  \n",
       "3     Harwich Harbor (41.7N, 70W), Massachusetts     0.04  \n",
       "4     Webb Cove 44.2N, 69.5W), Stonington, Maine     0.05  \n",
       "5             Oslo Fjord (59.5N, −10.6W), Norway     0.06  \n",
       "6                 Tromsø (69.7N, −18.7W), Norway     0.07  \n",
       "7            North Atlantic Ocean (42.7N, 69.6W)     0.04  \n",
       "8                 Tromsø (59.5N, −10.6W), Norway     0.06  "
      ]
     },
     "execution_count": 29,
     "metadata": {},
     "output_type": "execute_result"
    }
   ],
   "source": [
    "df"
   ]
  },
  {
   "cell_type": "code",
   "execution_count": null,
   "id": "biblical-optics",
   "metadata": {},
   "outputs": [],
   "source": []
  }
 ],
 "metadata": {
  "kernelspec": {
   "display_name": "Python [conda env:miniconda-analysis4]",
   "language": "python",
   "name": "conda-env-miniconda-analysis4-py"
  },
  "language_info": {
   "codemirror_mode": {
    "name": "ipython",
    "version": 3
   },
   "file_extension": ".py",
   "mimetype": "text/x-python",
   "name": "python",
   "nbconvert_exporter": "python",
   "pygments_lexer": "ipython3",
   "version": "3.7.9"
  }
 },
 "nbformat": 4,
 "nbformat_minor": 5
}
