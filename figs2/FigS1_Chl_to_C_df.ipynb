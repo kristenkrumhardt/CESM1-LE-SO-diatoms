{
 "cells": [
  {
   "cell_type": "code",
   "execution_count": 1,
   "id": "average-cruise",
   "metadata": {},
   "outputs": [],
   "source": [
    "%matplotlib inline\n",
    "import warnings\n",
    "warnings.filterwarnings('ignore')\n",
    "import os\n",
    "from glob import glob\n",
    "from collections import OrderedDict\n",
    "import xarray as xr\n",
    "import numpy as np\n",
    "\n",
    "import esmlab\n",
    "import matplotlib.pyplot as plt\n",
    "import cartopy\n",
    "import cartopy.crs as ccrs\n",
    "from scipy import stats\n",
    "import pop_tools \n",
    "\n",
    "from statistics import mean\n",
    "from matplotlib import style\n",
    "from scipy import stats\n",
    "import pandas as pd\n",
    "\n",
    "style.use('default')\n",
    "import matplotlib.path as mpath\n",
    "\n",
    "from IPython.display import Image"
   ]
  },
  {
   "cell_type": "markdown",
   "id": "pediatric-municipality",
   "metadata": {},
   "source": [
    "coldwater species = above 40° latitude"
   ]
  },
  {
   "cell_type": "code",
   "execution_count": 6,
   "id": "outstanding-advisory",
   "metadata": {},
   "outputs": [],
   "source": [
    "df = pd.DataFrame(columns=['PFT_group','study', 'species', 'isolate_location','gChl/gC','notes'])"
   ]
  },
  {
   "cell_type": "code",
   "execution_count": 7,
   "id": "violent-increase",
   "metadata": {},
   "outputs": [],
   "source": [
    "df = df.append({'PFT_group': 'diat',\n",
    "                'study': 'Lomas_etal_2019', \n",
    "                'species': 'Attheya septentrionalis', \n",
    "                'isolate_location': 'Baffin Bay (77.8N, 76.4W), N. Atlantic Ocean',\n",
    "                'gChl/gC':0.13}, ignore_index=True)"
   ]
  },
  {
   "cell_type": "code",
   "execution_count": 8,
   "id": "raising-tumor",
   "metadata": {},
   "outputs": [],
   "source": [
    "df = df.append({'PFT_group': 'diat',\n",
    "                'study': 'Lomas_etal_2019', \n",
    "                'species': 'Skeletonema dohrni', \n",
    "                'isolate_location': 'Kasitsna Bay (59.5N, 151.4W), Alaska',\n",
    "                'gChl/gC':0.040}, ignore_index=True)"
   ]
  },
  {
   "cell_type": "code",
   "execution_count": 9,
   "id": "common-meeting",
   "metadata": {},
   "outputs": [],
   "source": [
    "df = df.append({'PFT_group': 'diat',\n",
    "                'study': 'Lomas_etal_2019', \n",
    "                'species': 'Porosira glacialis', \n",
    "                'isolate_location': 'Narragansett Bay (41.6N, 71.4W), Rhode Island',\n",
    "                'gChl/gC':0.061}, ignore_index=True)"
   ]
  },
  {
   "cell_type": "code",
   "execution_count": 10,
   "id": "useful-stupid",
   "metadata": {},
   "outputs": [],
   "source": [
    "df = df.append({'PFT_group': 'diat',\n",
    "                'study': 'Lomas_etal_2019', \n",
    "                'species': 'Melosira nummuloides', \n",
    "                'isolate_location': 'Harwich Harbor (41.7N, 70W), Massachusetts',\n",
    "                'gChl/gC':0.040}, ignore_index=True)"
   ]
  },
  {
   "cell_type": "code",
   "execution_count": 11,
   "id": "fewer-cabin",
   "metadata": {},
   "outputs": [],
   "source": [
    "df = df.append({'PFT_group': 'diat',\n",
    "                'study': 'Lomas_etal_2019', \n",
    "                'species': 'Odontella aurita', \n",
    "                'isolate_location': 'Webb Cove 44.2N, 69.5W), Stonington, Maine',\n",
    "                'gChl/gC':0.053}, ignore_index=True)"
   ]
  },
  {
   "cell_type": "code",
   "execution_count": 12,
   "id": "central-exposure",
   "metadata": {},
   "outputs": [],
   "source": [
    "df = df.append({'PFT_group': 'diat',\n",
    "                'study': 'Lomas_etal_2019', \n",
    "                'species': 'Thalassiosira antarctica', \n",
    "                'isolate_location': 'Oslo Fjord (59.5N, −10.6W), Norway',\n",
    "                'gChl/gC':0.055}, ignore_index=True)"
   ]
  },
  {
   "cell_type": "code",
   "execution_count": 13,
   "id": "another-rover",
   "metadata": {},
   "outputs": [],
   "source": [
    "df = df.append({'PFT_group': 'diat',\n",
    "                'study': 'Lomas_etal_2019', \n",
    "                'species': 'Thalassiosira nordenskioeldii', \n",
    "                'isolate_location': 'Tromsø (69.7N, −18.7W), Norway',\n",
    "                'gChl/gC':0.073}, ignore_index=True)"
   ]
  },
  {
   "cell_type": "code",
   "execution_count": 14,
   "id": "fifteen-montgomery",
   "metadata": {},
   "outputs": [],
   "source": [
    "df = df.append({'PFT_group': 'diat',\n",
    "                'study': 'Lomas_etal_2019', \n",
    "                'species': 'Thalassiosira aestivalis', \n",
    "                'isolate_location': 'North Atlantic Ocean (42.7N, 69.6W)',\n",
    "                'gChl/gC':0.043}, ignore_index=True)"
   ]
  },
  {
   "cell_type": "code",
   "execution_count": 15,
   "id": "informational-growth",
   "metadata": {},
   "outputs": [],
   "source": [
    "df = df.append({'PFT_group': 'diat',\n",
    "                'study': 'Lomas_etal_2019', \n",
    "                'species': 'Thalassiosira gravida', \n",
    "                'isolate_location': 'Tromsø (59.5N, −10.6W), Norway',\n",
    "                'gChl/gC':0.061}, ignore_index=True)"
   ]
  },
  {
   "cell_type": "code",
   "execution_count": 16,
   "id": "specific-procurement",
   "metadata": {},
   "outputs": [],
   "source": [
    "df = df.append({'PFT_group': 'diat',\n",
    "                'study': 'Geider_etal_1997,Geider_etal_1985', \n",
    "                'species': 'Phaeodactylum tricornutum', \n",
    "                'isolate_location': 'unknown; worldwide distribution',\n",
    "                'gChl/gC':0.072}, ignore_index=True)"
   ]
  },
  {
   "cell_type": "code",
   "execution_count": 17,
   "id": "cleared-fields",
   "metadata": {},
   "outputs": [],
   "source": [
    "df = df.append({'PFT_group': 'diat',\n",
    "                'study': 'Geider_etal_1997,Terry_etal_1983', \n",
    "                'species': 'Phaeodactylum tricornutum', \n",
    "                'isolate_location': 'unknown; worldwide distribution',\n",
    "                'gChl/gC':0.067}, ignore_index=True)"
   ]
  },
  {
   "cell_type": "code",
   "execution_count": 18,
   "id": "amazing-pitch",
   "metadata": {},
   "outputs": [],
   "source": [
    "df = df.append({'PFT_group': 'diat',\n",
    "                'study': 'Geider_etal_1997,Cosper_1982', \n",
    "                'species': 'Skeletonema costatum', \n",
    "                'isolate_location': 'unknown; temperate waters',\n",
    "                'gChl/gC':0.036}, ignore_index=True)"
   ]
  },
  {
   "cell_type": "code",
   "execution_count": 19,
   "id": "orange-rugby",
   "metadata": {},
   "outputs": [],
   "source": [
    "df = df.append({'PFT_group': 'diat',\n",
    "                'study': 'Geider_etal_1997,Cosper_1982', \n",
    "                'species': 'Skeletonema costatum', \n",
    "                'isolate_location': 'unknown; temperate waters',\n",
    "                'gChl/gC':0.036}, ignore_index=True)"
   ]
  },
  {
   "cell_type": "code",
   "execution_count": 20,
   "id": "suited-norman",
   "metadata": {},
   "outputs": [],
   "source": [
    "df = df.append({'PFT_group': 'diat',\n",
    "                'study': 'Geider_etal_1997,Landgon_1988', \n",
    "                'species': 'Skeletonema costatum', \n",
    "                'isolate_location': 'unknown; temperate waters',\n",
    "                'gChl/gC':0.061}, ignore_index=True)"
   ]
  },
  {
   "cell_type": "code",
   "execution_count": 21,
   "id": "thousand-platform",
   "metadata": {},
   "outputs": [],
   "source": [
    "df = df.append({'PFT_group': 'diat',\n",
    "                'study': 'Geider_etal_1997,Yoder_1979', \n",
    "                'species': 'Skeletonema costatum', \n",
    "                'isolate_location': 'Narragansett Bay (41.6N, 71.4W), Rhode Island',\n",
    "                'gChl/gC':0.047}, ignore_index=True)"
   ]
  },
  {
   "cell_type": "code",
   "execution_count": 22,
   "id": "raised-nowhere",
   "metadata": {},
   "outputs": [],
   "source": [
    "df = df.append({'PFT_group': 'diat',\n",
    "                'study': 'Geider_etal_1997,Geider_1984', \n",
    "                'species': 'Thalassiosira pseudonana', \n",
    "                'isolate_location': 'unknown',\n",
    "                'gChl/gC':0.059}, ignore_index=True)"
   ]
  },
  {
   "cell_type": "code",
   "execution_count": 23,
   "id": "golden-veteran",
   "metadata": {},
   "outputs": [],
   "source": [
    "df = df.append({'PFT_group': 'diat',\n",
    "                'study': 'Geider_etal_1997,Falkowski_etal_1985', \n",
    "                'species': 'Thalassiosira weissflogii', \n",
    "                'isolate_location': 'Long Island Sound',\n",
    "                'gChl/gC':0.055}, ignore_index=True)"
   ]
  },
  {
   "cell_type": "code",
   "execution_count": 24,
   "id": "phantom-corpus",
   "metadata": {},
   "outputs": [],
   "source": [
    "df = df.append({'PFT_group': 'diat',\n",
    "                'study': 'Geider_etal_1997,Laws_Bannister_1980', \n",
    "                'species': 'Thalassiosira weissflogii', \n",
    "                'isolate_location': 'unknown',\n",
    "                'gChl/gC':0.058}, ignore_index=True)"
   ]
  },
  {
   "cell_type": "code",
   "execution_count": 25,
   "id": "tutorial-glucose",
   "metadata": {},
   "outputs": [],
   "source": [
    "df = df.append({'PFT_group': 'sp',\n",
    "                'study': 'Geider_etal_1997,Langdon_1988', \n",
    "                'species': 'Olisthodiscus luteus', \n",
    "                'isolate_location': 'unknown',\n",
    "                'gChl/gC':0.033}, ignore_index=True)"
   ]
  },
  {
   "cell_type": "code",
   "execution_count": 26,
   "id": "arranged-employer",
   "metadata": {},
   "outputs": [],
   "source": [
    "df = df.append({'PFT_group': 'sp',\n",
    "                'study': 'Geider_etal_1997,Kana_Gilbert_1987', \n",
    "                'species': 'Synecchococcus spp.', \n",
    "                'isolate_location': 'unknown',\n",
    "                'gChl/gC':0.021}, ignore_index=True)"
   ]
  },
  {
   "cell_type": "code",
   "execution_count": 27,
   "id": "insured-limit",
   "metadata": {},
   "outputs": [],
   "source": [
    "df = df.append({'PFT_group': 'sp',\n",
    "                'study': 'Geider_etal_1997,Langdon_1988', \n",
    "                'species': 'Gonyaulax tamarensis', \n",
    "                'isolate_location': 'unknown',\n",
    "                'gChl/gC':0.015}, ignore_index=True)"
   ]
  },
  {
   "cell_type": "code",
   "execution_count": 28,
   "id": "wicked-comparison",
   "metadata": {},
   "outputs": [],
   "source": [
    "df = df.append({'PFT_group': 'sp',\n",
    "                'study': 'Geider_etal_1997,Nielson_1996', \n",
    "                'species': 'Gymnodinium galatheanum', \n",
    "                'isolate_location': 'Olsofjord, Norway',\n",
    "                'gChl/gC':0.015}, ignore_index=True)"
   ]
  },
  {
   "cell_type": "code",
   "execution_count": 29,
   "id": "opposite-joshua",
   "metadata": {},
   "outputs": [],
   "source": [
    "df = df.append({'PFT_group': 'sp',\n",
    "                'study': 'Geider_etal_1997,Nielson_1992', \n",
    "                'species': 'Gyrodinium aureolum', \n",
    "                'isolate_location': 'unknown',\n",
    "                'gChl/gC':0.047}, ignore_index=True)"
   ]
  },
  {
   "cell_type": "code",
   "execution_count": 30,
   "id": "scheduled-jumping",
   "metadata": {},
   "outputs": [],
   "source": [
    "df = df.append({'PFT_group': 'sp',\n",
    "                'study': 'Geider_etal_1997,Falkowski_etal_1985', \n",
    "                'species': 'Prorocentrum micans', \n",
    "                'isolate_location': 'unknown; temperate to tropical',\n",
    "                'gChl/gC':0.007}, ignore_index=True)"
   ]
  },
  {
   "cell_type": "code",
   "execution_count": 31,
   "id": "statistical-contractor",
   "metadata": {},
   "outputs": [],
   "source": [
    "df = df.append({'PFT_group': 'sp',\n",
    "                'study': 'Geider_etal_1997,Rivkin_etal_1982', \n",
    "                'species': 'Pyrocystis notiluca', \n",
    "                'isolate_location': 'Sargasso Sea',\n",
    "                'gChl/gC':0.008}, ignore_index=True)"
   ]
  },
  {
   "cell_type": "code",
   "execution_count": 32,
   "id": "gorgeous-bruce",
   "metadata": {},
   "outputs": [],
   "source": [
    "df = df.append({'PFT_group': 'sp',\n",
    "                'study': 'Geider_etal_1997,Muggali_Harrison_1997', \n",
    "                'species': 'Emiliania huxleyi', \n",
    "                'isolate_location': 'Subarctic North Pacific, Station P',\n",
    "                'gChl/gC':0.017}, ignore_index=True)"
   ]
  },
  {
   "cell_type": "code",
   "execution_count": 33,
   "id": "civil-reality",
   "metadata": {},
   "outputs": [],
   "source": [
    "df = df.append({'PFT_group': 'sp',\n",
    "                'study': 'Verity_etal_1991', \n",
    "                'species': 'Phaeocystis pouchetti', \n",
    "                'isolate_location': 'Tromso, Norway',\n",
    "                'gChl/gC':0.015,'notes':'largest value reported among solitary & colonies'}, ignore_index=True)"
   ]
  },
  {
   "cell_type": "code",
   "execution_count": 34,
   "id": "intermediate-license",
   "metadata": {},
   "outputs": [],
   "source": [
    "df = df.append({'PFT_group': 'diat',\n",
    "                'study': 'Sakshaug_etal_1991', \n",
    "                'species': 'Thalassiosira nordenskioeldii', \n",
    "                'isolate_location': 'Barents Sea',\n",
    "                'gChl/gC':0.062,'notes':'low light adapted, 12 h'}, ignore_index=True)"
   ]
  },
  {
   "cell_type": "code",
   "execution_count": 35,
   "id": "assumed-image",
   "metadata": {},
   "outputs": [],
   "source": [
    "df = df.append({'PFT_group': 'diat',\n",
    "                'study': 'Sakshaug_etal_1991', \n",
    "                'species': 'Chaetoceros furcellatus', \n",
    "                'isolate_location': 'Barents Sea',\n",
    "                'gChl/gC':0.036,'notes':'low light adapted, 12 h'}, ignore_index=True)"
   ]
  },
  {
   "cell_type": "code",
   "execution_count": null,
   "id": "public-youth",
   "metadata": {},
   "outputs": [],
   "source": []
  },
  {
   "cell_type": "markdown",
   "id": "static-premises",
   "metadata": {},
   "source": [
    "### CESM diat gChl/gC:\n",
    "#### diat: 0.046\n",
    "#### sp: 0.028"
   ]
  },
  {
   "cell_type": "code",
   "execution_count": 36,
   "id": "several-shaft",
   "metadata": {},
   "outputs": [
    {
     "data": {
      "text/html": [
       "<div>\n",
       "<style scoped>\n",
       "    .dataframe tbody tr th:only-of-type {\n",
       "        vertical-align: middle;\n",
       "    }\n",
       "\n",
       "    .dataframe tbody tr th {\n",
       "        vertical-align: top;\n",
       "    }\n",
       "\n",
       "    .dataframe thead th {\n",
       "        text-align: right;\n",
       "    }\n",
       "</style>\n",
       "<table border=\"1\" class=\"dataframe\">\n",
       "  <thead>\n",
       "    <tr style=\"text-align: right;\">\n",
       "      <th></th>\n",
       "      <th>PFT_group</th>\n",
       "      <th>study</th>\n",
       "      <th>species</th>\n",
       "      <th>isolate_location</th>\n",
       "      <th>gChl/gC</th>\n",
       "      <th>notes</th>\n",
       "    </tr>\n",
       "  </thead>\n",
       "  <tbody>\n",
       "    <tr>\n",
       "      <th>0</th>\n",
       "      <td>diat</td>\n",
       "      <td>Lomas_etal_2019</td>\n",
       "      <td>Attheya septentrionalis</td>\n",
       "      <td>Baffin Bay (77.8N, 76.4W), N. Atlantic Ocean</td>\n",
       "      <td>0.130</td>\n",
       "      <td>NaN</td>\n",
       "    </tr>\n",
       "    <tr>\n",
       "      <th>1</th>\n",
       "      <td>diat</td>\n",
       "      <td>Lomas_etal_2019</td>\n",
       "      <td>Skeletonema dohrni</td>\n",
       "      <td>Kasitsna Bay (59.5N, 151.4W), Alaska</td>\n",
       "      <td>0.040</td>\n",
       "      <td>NaN</td>\n",
       "    </tr>\n",
       "    <tr>\n",
       "      <th>2</th>\n",
       "      <td>diat</td>\n",
       "      <td>Lomas_etal_2019</td>\n",
       "      <td>Porosira glacialis</td>\n",
       "      <td>Narragansett Bay (41.6N, 71.4W), Rhode Island</td>\n",
       "      <td>0.061</td>\n",
       "      <td>NaN</td>\n",
       "    </tr>\n",
       "    <tr>\n",
       "      <th>3</th>\n",
       "      <td>diat</td>\n",
       "      <td>Lomas_etal_2019</td>\n",
       "      <td>Melosira nummuloides</td>\n",
       "      <td>Harwich Harbor (41.7N, 70W), Massachusetts</td>\n",
       "      <td>0.040</td>\n",
       "      <td>NaN</td>\n",
       "    </tr>\n",
       "    <tr>\n",
       "      <th>4</th>\n",
       "      <td>diat</td>\n",
       "      <td>Lomas_etal_2019</td>\n",
       "      <td>Odontella aurita</td>\n",
       "      <td>Webb Cove 44.2N, 69.5W), Stonington, Maine</td>\n",
       "      <td>0.053</td>\n",
       "      <td>NaN</td>\n",
       "    </tr>\n",
       "    <tr>\n",
       "      <th>5</th>\n",
       "      <td>diat</td>\n",
       "      <td>Lomas_etal_2019</td>\n",
       "      <td>Thalassiosira antarctica</td>\n",
       "      <td>Oslo Fjord (59.5N, −10.6W), Norway</td>\n",
       "      <td>0.055</td>\n",
       "      <td>NaN</td>\n",
       "    </tr>\n",
       "    <tr>\n",
       "      <th>6</th>\n",
       "      <td>diat</td>\n",
       "      <td>Lomas_etal_2019</td>\n",
       "      <td>Thalassiosira nordenskioeldii</td>\n",
       "      <td>Tromsø (69.7N, −18.7W), Norway</td>\n",
       "      <td>0.073</td>\n",
       "      <td>NaN</td>\n",
       "    </tr>\n",
       "    <tr>\n",
       "      <th>7</th>\n",
       "      <td>diat</td>\n",
       "      <td>Lomas_etal_2019</td>\n",
       "      <td>Thalassiosira aestivalis</td>\n",
       "      <td>North Atlantic Ocean (42.7N, 69.6W)</td>\n",
       "      <td>0.043</td>\n",
       "      <td>NaN</td>\n",
       "    </tr>\n",
       "    <tr>\n",
       "      <th>8</th>\n",
       "      <td>diat</td>\n",
       "      <td>Lomas_etal_2019</td>\n",
       "      <td>Thalassiosira gravida</td>\n",
       "      <td>Tromsø (59.5N, −10.6W), Norway</td>\n",
       "      <td>0.061</td>\n",
       "      <td>NaN</td>\n",
       "    </tr>\n",
       "    <tr>\n",
       "      <th>9</th>\n",
       "      <td>diat</td>\n",
       "      <td>Geider_etal_1997,Geider_etal_1985</td>\n",
       "      <td>Phaeodactylum tricornutum</td>\n",
       "      <td>unknown; worldwide distribution</td>\n",
       "      <td>0.072</td>\n",
       "      <td>NaN</td>\n",
       "    </tr>\n",
       "    <tr>\n",
       "      <th>10</th>\n",
       "      <td>diat</td>\n",
       "      <td>Geider_etal_1997,Terry_etal_1983</td>\n",
       "      <td>Phaeodactylum tricornutum</td>\n",
       "      <td>unknown; worldwide distribution</td>\n",
       "      <td>0.067</td>\n",
       "      <td>NaN</td>\n",
       "    </tr>\n",
       "    <tr>\n",
       "      <th>11</th>\n",
       "      <td>diat</td>\n",
       "      <td>Geider_etal_1997,Cosper_1982</td>\n",
       "      <td>Skeletonema costatum</td>\n",
       "      <td>unknown; temperate waters</td>\n",
       "      <td>0.036</td>\n",
       "      <td>NaN</td>\n",
       "    </tr>\n",
       "    <tr>\n",
       "      <th>12</th>\n",
       "      <td>diat</td>\n",
       "      <td>Geider_etal_1997,Cosper_1982</td>\n",
       "      <td>Skeletonema costatum</td>\n",
       "      <td>unknown; temperate waters</td>\n",
       "      <td>0.036</td>\n",
       "      <td>NaN</td>\n",
       "    </tr>\n",
       "    <tr>\n",
       "      <th>13</th>\n",
       "      <td>diat</td>\n",
       "      <td>Geider_etal_1997,Landgon_1988</td>\n",
       "      <td>Skeletonema costatum</td>\n",
       "      <td>unknown; temperate waters</td>\n",
       "      <td>0.061</td>\n",
       "      <td>NaN</td>\n",
       "    </tr>\n",
       "    <tr>\n",
       "      <th>14</th>\n",
       "      <td>diat</td>\n",
       "      <td>Geider_etal_1997,Yoder_1979</td>\n",
       "      <td>Skeletonema costatum</td>\n",
       "      <td>Narragansett Bay (41.6N, 71.4W), Rhode Island</td>\n",
       "      <td>0.047</td>\n",
       "      <td>NaN</td>\n",
       "    </tr>\n",
       "    <tr>\n",
       "      <th>15</th>\n",
       "      <td>diat</td>\n",
       "      <td>Geider_etal_1997,Geider_1984</td>\n",
       "      <td>Thalassiosira pseudonana</td>\n",
       "      <td>unknown</td>\n",
       "      <td>0.059</td>\n",
       "      <td>NaN</td>\n",
       "    </tr>\n",
       "    <tr>\n",
       "      <th>16</th>\n",
       "      <td>diat</td>\n",
       "      <td>Geider_etal_1997,Falkowski_etal_1985</td>\n",
       "      <td>Thalassiosira weissflogii</td>\n",
       "      <td>Long Island Sound</td>\n",
       "      <td>0.055</td>\n",
       "      <td>NaN</td>\n",
       "    </tr>\n",
       "    <tr>\n",
       "      <th>17</th>\n",
       "      <td>diat</td>\n",
       "      <td>Geider_etal_1997,Laws_Bannister_1980</td>\n",
       "      <td>Thalassiosira weissflogii</td>\n",
       "      <td>unknown</td>\n",
       "      <td>0.058</td>\n",
       "      <td>NaN</td>\n",
       "    </tr>\n",
       "    <tr>\n",
       "      <th>18</th>\n",
       "      <td>sp</td>\n",
       "      <td>Geider_etal_1997,Langdon_1988</td>\n",
       "      <td>Olisthodiscus luteus</td>\n",
       "      <td>unknown</td>\n",
       "      <td>0.033</td>\n",
       "      <td>NaN</td>\n",
       "    </tr>\n",
       "    <tr>\n",
       "      <th>19</th>\n",
       "      <td>sp</td>\n",
       "      <td>Geider_etal_1997,Kana_Gilbert_1987</td>\n",
       "      <td>Synecchococcus spp.</td>\n",
       "      <td>unknown</td>\n",
       "      <td>0.021</td>\n",
       "      <td>NaN</td>\n",
       "    </tr>\n",
       "    <tr>\n",
       "      <th>20</th>\n",
       "      <td>sp</td>\n",
       "      <td>Geider_etal_1997,Langdon_1988</td>\n",
       "      <td>Gonyaulax tamarensis</td>\n",
       "      <td>unknown</td>\n",
       "      <td>0.015</td>\n",
       "      <td>NaN</td>\n",
       "    </tr>\n",
       "    <tr>\n",
       "      <th>21</th>\n",
       "      <td>sp</td>\n",
       "      <td>Geider_etal_1997,Nielson_1996</td>\n",
       "      <td>Gymnodinium galatheanum</td>\n",
       "      <td>Olsofjord, Norway</td>\n",
       "      <td>0.015</td>\n",
       "      <td>NaN</td>\n",
       "    </tr>\n",
       "    <tr>\n",
       "      <th>22</th>\n",
       "      <td>sp</td>\n",
       "      <td>Geider_etal_1997,Nielson_1992</td>\n",
       "      <td>Gyrodinium aureolum</td>\n",
       "      <td>unknown</td>\n",
       "      <td>0.047</td>\n",
       "      <td>NaN</td>\n",
       "    </tr>\n",
       "    <tr>\n",
       "      <th>23</th>\n",
       "      <td>sp</td>\n",
       "      <td>Geider_etal_1997,Falkowski_etal_1985</td>\n",
       "      <td>Prorocentrum micans</td>\n",
       "      <td>unknown; temperate to tropical</td>\n",
       "      <td>0.007</td>\n",
       "      <td>NaN</td>\n",
       "    </tr>\n",
       "    <tr>\n",
       "      <th>24</th>\n",
       "      <td>sp</td>\n",
       "      <td>Geider_etal_1997,Rivkin_etal_1982</td>\n",
       "      <td>Pyrocystis notiluca</td>\n",
       "      <td>Sargasso Sea</td>\n",
       "      <td>0.008</td>\n",
       "      <td>NaN</td>\n",
       "    </tr>\n",
       "    <tr>\n",
       "      <th>25</th>\n",
       "      <td>sp</td>\n",
       "      <td>Geider_etal_1997,Muggali_Harrison_1997</td>\n",
       "      <td>Emiliania huxleyi</td>\n",
       "      <td>Subarctic North Pacific, Station P</td>\n",
       "      <td>0.017</td>\n",
       "      <td>NaN</td>\n",
       "    </tr>\n",
       "    <tr>\n",
       "      <th>26</th>\n",
       "      <td>sp</td>\n",
       "      <td>Verity_etal_1991</td>\n",
       "      <td>Phaeocystis pouchetti</td>\n",
       "      <td>Tromso, Norway</td>\n",
       "      <td>0.015</td>\n",
       "      <td>largest value reported among solitary &amp; colonies</td>\n",
       "    </tr>\n",
       "    <tr>\n",
       "      <th>27</th>\n",
       "      <td>diat</td>\n",
       "      <td>Sakshaug_etal_1991</td>\n",
       "      <td>Thalassiosira nordenskioeldii</td>\n",
       "      <td>Barents Sea</td>\n",
       "      <td>0.062</td>\n",
       "      <td>low light adapted, 12 h</td>\n",
       "    </tr>\n",
       "    <tr>\n",
       "      <th>28</th>\n",
       "      <td>diat</td>\n",
       "      <td>Sakshaug_etal_1991</td>\n",
       "      <td>Chaetoceros furcellatus</td>\n",
       "      <td>Barents Sea</td>\n",
       "      <td>0.036</td>\n",
       "      <td>low light adapted, 12 h</td>\n",
       "    </tr>\n",
       "  </tbody>\n",
       "</table>\n",
       "</div>"
      ],
      "text/plain": [
       "   PFT_group                                   study  \\\n",
       "0       diat                         Lomas_etal_2019   \n",
       "1       diat                         Lomas_etal_2019   \n",
       "2       diat                         Lomas_etal_2019   \n",
       "3       diat                         Lomas_etal_2019   \n",
       "4       diat                         Lomas_etal_2019   \n",
       "5       diat                         Lomas_etal_2019   \n",
       "6       diat                         Lomas_etal_2019   \n",
       "7       diat                         Lomas_etal_2019   \n",
       "8       diat                         Lomas_etal_2019   \n",
       "9       diat       Geider_etal_1997,Geider_etal_1985   \n",
       "10      diat        Geider_etal_1997,Terry_etal_1983   \n",
       "11      diat            Geider_etal_1997,Cosper_1982   \n",
       "12      diat            Geider_etal_1997,Cosper_1982   \n",
       "13      diat           Geider_etal_1997,Landgon_1988   \n",
       "14      diat             Geider_etal_1997,Yoder_1979   \n",
       "15      diat            Geider_etal_1997,Geider_1984   \n",
       "16      diat    Geider_etal_1997,Falkowski_etal_1985   \n",
       "17      diat    Geider_etal_1997,Laws_Bannister_1980   \n",
       "18        sp           Geider_etal_1997,Langdon_1988   \n",
       "19        sp      Geider_etal_1997,Kana_Gilbert_1987   \n",
       "20        sp           Geider_etal_1997,Langdon_1988   \n",
       "21        sp           Geider_etal_1997,Nielson_1996   \n",
       "22        sp           Geider_etal_1997,Nielson_1992   \n",
       "23        sp    Geider_etal_1997,Falkowski_etal_1985   \n",
       "24        sp       Geider_etal_1997,Rivkin_etal_1982   \n",
       "25        sp  Geider_etal_1997,Muggali_Harrison_1997   \n",
       "26        sp                        Verity_etal_1991   \n",
       "27      diat                      Sakshaug_etal_1991   \n",
       "28      diat                      Sakshaug_etal_1991   \n",
       "\n",
       "                          species  \\\n",
       "0         Attheya septentrionalis   \n",
       "1              Skeletonema dohrni   \n",
       "2              Porosira glacialis   \n",
       "3            Melosira nummuloides   \n",
       "4                Odontella aurita   \n",
       "5        Thalassiosira antarctica   \n",
       "6   Thalassiosira nordenskioeldii   \n",
       "7        Thalassiosira aestivalis   \n",
       "8           Thalassiosira gravida   \n",
       "9       Phaeodactylum tricornutum   \n",
       "10      Phaeodactylum tricornutum   \n",
       "11           Skeletonema costatum   \n",
       "12           Skeletonema costatum   \n",
       "13           Skeletonema costatum   \n",
       "14           Skeletonema costatum   \n",
       "15       Thalassiosira pseudonana   \n",
       "16      Thalassiosira weissflogii   \n",
       "17      Thalassiosira weissflogii   \n",
       "18           Olisthodiscus luteus   \n",
       "19            Synecchococcus spp.   \n",
       "20           Gonyaulax tamarensis   \n",
       "21        Gymnodinium galatheanum   \n",
       "22            Gyrodinium aureolum   \n",
       "23            Prorocentrum micans   \n",
       "24            Pyrocystis notiluca   \n",
       "25              Emiliania huxleyi   \n",
       "26          Phaeocystis pouchetti   \n",
       "27  Thalassiosira nordenskioeldii   \n",
       "28        Chaetoceros furcellatus   \n",
       "\n",
       "                                 isolate_location  gChl/gC  \\\n",
       "0    Baffin Bay (77.8N, 76.4W), N. Atlantic Ocean    0.130   \n",
       "1            Kasitsna Bay (59.5N, 151.4W), Alaska    0.040   \n",
       "2   Narragansett Bay (41.6N, 71.4W), Rhode Island    0.061   \n",
       "3      Harwich Harbor (41.7N, 70W), Massachusetts    0.040   \n",
       "4      Webb Cove 44.2N, 69.5W), Stonington, Maine    0.053   \n",
       "5              Oslo Fjord (59.5N, −10.6W), Norway    0.055   \n",
       "6                  Tromsø (69.7N, −18.7W), Norway    0.073   \n",
       "7             North Atlantic Ocean (42.7N, 69.6W)    0.043   \n",
       "8                  Tromsø (59.5N, −10.6W), Norway    0.061   \n",
       "9                 unknown; worldwide distribution    0.072   \n",
       "10                unknown; worldwide distribution    0.067   \n",
       "11                      unknown; temperate waters    0.036   \n",
       "12                      unknown; temperate waters    0.036   \n",
       "13                      unknown; temperate waters    0.061   \n",
       "14  Narragansett Bay (41.6N, 71.4W), Rhode Island    0.047   \n",
       "15                                        unknown    0.059   \n",
       "16                              Long Island Sound    0.055   \n",
       "17                                        unknown    0.058   \n",
       "18                                        unknown    0.033   \n",
       "19                                        unknown    0.021   \n",
       "20                                        unknown    0.015   \n",
       "21                              Olsofjord, Norway    0.015   \n",
       "22                                        unknown    0.047   \n",
       "23                 unknown; temperate to tropical    0.007   \n",
       "24                                   Sargasso Sea    0.008   \n",
       "25             Subarctic North Pacific, Station P    0.017   \n",
       "26                                 Tromso, Norway    0.015   \n",
       "27                                    Barents Sea    0.062   \n",
       "28                                    Barents Sea    0.036   \n",
       "\n",
       "                                               notes  \n",
       "0                                                NaN  \n",
       "1                                                NaN  \n",
       "2                                                NaN  \n",
       "3                                                NaN  \n",
       "4                                                NaN  \n",
       "5                                                NaN  \n",
       "6                                                NaN  \n",
       "7                                                NaN  \n",
       "8                                                NaN  \n",
       "9                                                NaN  \n",
       "10                                               NaN  \n",
       "11                                               NaN  \n",
       "12                                               NaN  \n",
       "13                                               NaN  \n",
       "14                                               NaN  \n",
       "15                                               NaN  \n",
       "16                                               NaN  \n",
       "17                                               NaN  \n",
       "18                                               NaN  \n",
       "19                                               NaN  \n",
       "20                                               NaN  \n",
       "21                                               NaN  \n",
       "22                                               NaN  \n",
       "23                                               NaN  \n",
       "24                                               NaN  \n",
       "25                                               NaN  \n",
       "26  largest value reported among solitary & colonies  \n",
       "27                           low light adapted, 12 h  \n",
       "28                           low light adapted, 12 h  "
      ]
     },
     "execution_count": 36,
     "metadata": {},
     "output_type": "execute_result"
    }
   ],
   "source": [
    "df"
   ]
  },
  {
   "cell_type": "code",
   "execution_count": 37,
   "id": "cc92d215-6e31-4a78-be95-4166fd5a345f",
   "metadata": {},
   "outputs": [],
   "source": [
    "df.to_csv('/glade/work/kristenk/nb_for_jupyterbook/data/Chl_C_ratios.csv',index = False, header=True)"
   ]
  },
  {
   "cell_type": "code",
   "execution_count": 65,
   "id": "atomic-commonwealth",
   "metadata": {},
   "outputs": [
    {
     "data": {
      "text/plain": [
       "0.05725000000000001"
      ]
     },
     "execution_count": 65,
     "metadata": {},
     "output_type": "execute_result"
    }
   ],
   "source": [
    "selection_diat = df[(df['PFT_group'] =='diat')]\n",
    "selection_diat['gChl/gC'].mean()"
   ]
  },
  {
   "cell_type": "code",
   "execution_count": 64,
   "id": "functioning-relative",
   "metadata": {},
   "outputs": [
    {
     "data": {
      "text/plain": [
       "0.019777777777777783"
      ]
     },
     "execution_count": 64,
     "metadata": {},
     "output_type": "execute_result"
    }
   ],
   "source": [
    "selection_sp = df[(df['PFT_group'] =='sp')]\n",
    "selection_sp['gChl/gC'].mean()"
   ]
  },
  {
   "cell_type": "markdown",
   "id": "employed-system",
   "metadata": {},
   "source": [
    "### make a bar plot"
   ]
  },
  {
   "cell_type": "code",
   "execution_count": 54,
   "id": "hidden-karen",
   "metadata": {},
   "outputs": [],
   "source": [
    "species_diat = np.asarray(selection_diat.species)\n",
    "species_sp = np.asarray(selection_sp.species)\n",
    "#species_diat"
   ]
  },
  {
   "cell_type": "code",
   "execution_count": 55,
   "id": "identified-facility",
   "metadata": {},
   "outputs": [],
   "source": [
    "ratio_diat = np.asarray(selection_diat['gChl/gC'])\n",
    "ratio_sp = np.asarray(selection_sp['gChl/gC'])\n",
    "#ratio_diat"
   ]
  },
  {
   "cell_type": "code",
   "execution_count": null,
   "id": "needed-population",
   "metadata": {},
   "outputs": [],
   "source": []
  },
  {
   "cell_type": "code",
   "execution_count": null,
   "id": "dominican-broadcast",
   "metadata": {},
   "outputs": [],
   "source": []
  },
  {
   "cell_type": "code",
   "execution_count": 80,
   "id": "republican-dependence",
   "metadata": {},
   "outputs": [
    {
     "data": {
      "image/png": "[encoded data removed]",
      "text/plain": [
       "<Figure size 800x400 with 2 Axes>"
      ]
     },
     "metadata": {},
     "output_type": "display_data"
    }
   ],
   "source": [
    "fig = plt.figure(figsize=(8,4))\n",
    "ax = fig.add_subplot(1,2,1)\n",
    "ax.set_ylim(0,0.14)\n",
    "ax.set_title('a) Diatoms', x=0.15)\n",
    "ax.bar(species_diat,ratio_diat, color='red')\n",
    "ax.set_ylabel('max gChl/gC')\n",
    "ax.tick_params(axis='x', labelrotation = 90)\n",
    "plt.axhline(y=selection_diat['gChl/gC'].mean(), color='lightcoral', linestyle='--',label='mean data')\n",
    "plt.axhline(y=0.046, color='black', linestyle='--', label='CESM')\n",
    "ax.legend()\n",
    "\n",
    "ax = fig.add_subplot(1,2,2)\n",
    "ax.set_ylim(0,0.14)\n",
    "ax.set_title('b) Small phytoplankton',x=0.3)\n",
    "ax.bar(species_sp,ratio_sp, color='blue')\n",
    "ax.tick_params(axis='x', labelrotation = 90)\n",
    "ax.set_ylabel('max gChl/gC')\n",
    "plt.axhline(y=selection_sp['gChl/gC'].mean(), color='lightskyblue', linestyle='--',label='mean data')\n",
    "plt.axhline(y=0.028, color='black', linestyle='--', label='CESM')\n",
    "ax.yaxis.set_label_position(\"right\")\n",
    "ax.legend()\n",
    "ax.yaxis.tick_right();\n",
    "\n",
    "fig.subplots_adjust(wspace=0.05)"
   ]
  },
  {
   "cell_type": "code",
   "execution_count": null,
   "id": "wound-astrology",
   "metadata": {},
   "outputs": [],
   "source": []
  }
 ],
 "metadata": {
  "kernelspec": {
   "display_name": "Python [conda env:miniconda-analysis4]",
   "language": "python",
   "name": "conda-env-miniconda-analysis4-py"
  },
  "language_info": {
   "codemirror_mode": {
    "name": "ipython",
    "version": 3
   },
   "file_extension": ".py",
   "mimetype": "text/x-python",
   "name": "python",
   "nbconvert_exporter": "python",
   "pygments_lexer": "ipython3",
   "version": "3.7.9"
  }
 },
 "nbformat": 4,
 "nbformat_minor": 5
}
